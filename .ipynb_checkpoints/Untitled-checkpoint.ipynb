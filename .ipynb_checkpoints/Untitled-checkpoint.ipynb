{
 "cells": [
  {
   "cell_type": "code",
   "execution_count": 1,
   "metadata": {
    "collapsed": true
   },
   "outputs": [],
   "source": [
    "import numpy as np \n",
    "import pandas as pd\n",
    "import pandas.io.sql\n",
    "import pyodbc\n",
    "from IPython.display import Image\n",
    "import matplotlib.pyplot as plt\n",
    "import seaborn as sns \n",
    "import datetime\n",
    "from dateutil import parser\n",
    "# Show matplotlib plots inline (nicely formatted in the notebook)\n",
    "%matplotlib inline"
   ]
  },
  {
   "cell_type": "code",
   "execution_count": 2,
   "metadata": {
    "collapsed": false
   },
   "outputs": [],
   "source": [
    "full_data = pd.read_csv('data.csv')"
   ]
  },
  {
   "cell_type": "code",
   "execution_count": 3,
   "metadata": {
    "collapsed": false
   },
   "outputs": [
    {
     "data": {
      "text/html": [
       "<div>\n",
       "<table border=\"1\" class=\"dataframe\">\n",
       "  <thead>\n",
       "    <tr style=\"text-align: right;\">\n",
       "      <th></th>\n",
       "      <th>PID</th>\n",
       "      <th>Status</th>\n",
       "      <th>Area</th>\n",
       "      <th>Address</th>\n",
       "      <th>Subdivision</th>\n",
       "      <th>Type</th>\n",
       "      <th># Bedrooms</th>\n",
       "      <th>Total Baths</th>\n",
       "      <th># Rooms</th>\n",
       "      <th>Fin SF</th>\n",
       "      <th>List Price</th>\n",
       "      <th>Sales Price</th>\n",
       "      <th>Days On Market</th>\n",
       "    </tr>\n",
       "  </thead>\n",
       "  <tbody>\n",
       "    <tr>\n",
       "      <th>0</th>\n",
       "      <td>754-764-6046</td>\n",
       "      <td>CLOSD</td>\n",
       "      <td>22</td>\n",
       "      <td>4802 Meredith Woods RD</td>\n",
       "      <td>Meredith Woods</td>\n",
       "      <td>Detached</td>\n",
       "      <td>4</td>\n",
       "      <td>2.1</td>\n",
       "      <td>8</td>\n",
       "      <td>1825</td>\n",
       "      <td>164950</td>\n",
       "      <td>165000</td>\n",
       "      <td>27</td>\n",
       "    </tr>\n",
       "    <tr>\n",
       "      <th>1</th>\n",
       "      <td>755-764-7741</td>\n",
       "      <td>CLOSD</td>\n",
       "      <td>22</td>\n",
       "      <td>4920 Meredith Woods RD</td>\n",
       "      <td>Meredith Woods</td>\n",
       "      <td>Detached</td>\n",
       "      <td>4</td>\n",
       "      <td>2.1</td>\n",
       "      <td>11</td>\n",
       "      <td>1954</td>\n",
       "      <td>244950</td>\n",
       "      <td>244950</td>\n",
       "      <td>12</td>\n",
       "    </tr>\n",
       "    <tr>\n",
       "      <th>2</th>\n",
       "      <td>754-765-8344</td>\n",
       "      <td>CLOSD</td>\n",
       "      <td>34</td>\n",
       "      <td>9704 Timber PASS</td>\n",
       "      <td>Bridgewood</td>\n",
       "      <td>Detached</td>\n",
       "      <td>3</td>\n",
       "      <td>1.1</td>\n",
       "      <td>7</td>\n",
       "      <td>1520</td>\n",
       "      <td>107900</td>\n",
       "      <td>110000</td>\n",
       "      <td>12</td>\n",
       "    </tr>\n",
       "    <tr>\n",
       "      <th>3</th>\n",
       "      <td>755-765-0931</td>\n",
       "      <td>CLOSD</td>\n",
       "      <td>34</td>\n",
       "      <td>5001 Broad Meadows RD</td>\n",
       "      <td>Bridgewood</td>\n",
       "      <td>Detached</td>\n",
       "      <td>3</td>\n",
       "      <td>1.0</td>\n",
       "      <td>5</td>\n",
       "      <td>1188</td>\n",
       "      <td>109270</td>\n",
       "      <td>109270</td>\n",
       "      <td>8</td>\n",
       "    </tr>\n",
       "    <tr>\n",
       "      <th>4</th>\n",
       "      <td>754-765-9220</td>\n",
       "      <td>CLOSD</td>\n",
       "      <td>34</td>\n",
       "      <td>9705 Timber PASS</td>\n",
       "      <td>Bridgewood</td>\n",
       "      <td>Detached</td>\n",
       "      <td>3</td>\n",
       "      <td>1.1</td>\n",
       "      <td>6</td>\n",
       "      <td>1422</td>\n",
       "      <td>124000</td>\n",
       "      <td>102000</td>\n",
       "      <td>69</td>\n",
       "    </tr>\n",
       "  </tbody>\n",
       "</table>\n",
       "</div>"
      ],
      "text/plain": [
       "            PID Status  Area                 Address     Subdivision  \\\n",
       "0  754-764-6046  CLOSD    22  4802 Meredith Woods RD  Meredith Woods   \n",
       "1  755-764-7741  CLOSD    22  4920 Meredith Woods RD  Meredith Woods   \n",
       "2  754-765-8344  CLOSD    34        9704 Timber PASS      Bridgewood   \n",
       "3  755-765-0931  CLOSD    34   5001 Broad Meadows RD      Bridgewood   \n",
       "4  754-765-9220  CLOSD    34        9705 Timber PASS      Bridgewood   \n",
       "\n",
       "       Type  # Bedrooms  Total Baths  # Rooms  Fin SF  List Price  \\\n",
       "0  Detached           4          2.1        8    1825      164950   \n",
       "1  Detached           4          2.1       11    1954      244950   \n",
       "2  Detached           3          1.1        7    1520      107900   \n",
       "3  Detached           3          1.0        5    1188      109270   \n",
       "4  Detached           3          1.1        6    1422      124000   \n",
       "\n",
       "   Sales Price  Days On Market  \n",
       "0       165000              27  \n",
       "1       244950              12  \n",
       "2       110000              12  \n",
       "3       109270               8  \n",
       "4       102000              69  "
      ]
     },
     "execution_count": 3,
     "metadata": {},
     "output_type": "execute_result"
    }
   ],
   "source": [
    "full_data.head()"
   ]
  },
  {
   "cell_type": "markdown",
   "metadata": {},
   "source": [
    "## Removing Data with Null Values"
   ]
  },
  {
   "cell_type": "code",
   "execution_count": null,
   "metadata": {
    "collapsed": true
   },
   "outputs": [],
   "source": []
  },
  {
   "cell_type": "code",
   "execution_count": 12,
   "metadata": {
    "collapsed": false
   },
   "outputs": [
    {
     "data": {
      "text/plain": [
       "<matplotlib.axes._subplots.AxesSubplot at 0xac98dd8>"
      ]
     },
     "execution_count": 12,
     "metadata": {},
     "output_type": "execute_result"
    },
    {
     "data": {
      "image/png": "[encoded data removed]",
      "text/plain": [
       "<matplotlib.figure.Figure at 0xac5bb70>"
      ]
     },
     "metadata": {},
     "output_type": "display_data"
    }
   ],
   "source": [
    "y_all = full_data['Sales Price'] - full_data['List Price']\n",
    "y_all.describe()\n",
    "y_all.hist()"
   ]
  },
  {
   "cell_type": "code",
   "execution_count": 5,
   "metadata": {
    "collapsed": false
   },
   "outputs": [
    {
     "data": {
      "text/html": [
       "<div>\n",
       "<table border=\"1\" class=\"dataframe\">\n",
       "  <thead>\n",
       "    <tr style=\"text-align: right;\">\n",
       "      <th></th>\n",
       "      <th># Bedrooms</th>\n",
       "      <th>Total Baths</th>\n",
       "      <th># Rooms</th>\n",
       "      <th>Fin SF</th>\n",
       "      <th>List Price</th>\n",
       "      <th>Days On Market</th>\n",
       "    </tr>\n",
       "  </thead>\n",
       "  <tbody>\n",
       "    <tr>\n",
       "      <th>0</th>\n",
       "      <td>4</td>\n",
       "      <td>2.1</td>\n",
       "      <td>8</td>\n",
       "      <td>1825</td>\n",
       "      <td>164950</td>\n",
       "      <td>27</td>\n",
       "    </tr>\n",
       "    <tr>\n",
       "      <th>1</th>\n",
       "      <td>4</td>\n",
       "      <td>2.1</td>\n",
       "      <td>11</td>\n",
       "      <td>1954</td>\n",
       "      <td>244950</td>\n",
       "      <td>12</td>\n",
       "    </tr>\n",
       "    <tr>\n",
       "      <th>2</th>\n",
       "      <td>3</td>\n",
       "      <td>1.1</td>\n",
       "      <td>7</td>\n",
       "      <td>1520</td>\n",
       "      <td>107900</td>\n",
       "      <td>12</td>\n",
       "    </tr>\n",
       "    <tr>\n",
       "      <th>3</th>\n",
       "      <td>3</td>\n",
       "      <td>1.0</td>\n",
       "      <td>5</td>\n",
       "      <td>1188</td>\n",
       "      <td>109270</td>\n",
       "      <td>8</td>\n",
       "    </tr>\n",
       "    <tr>\n",
       "      <th>4</th>\n",
       "      <td>3</td>\n",
       "      <td>1.1</td>\n",
       "      <td>6</td>\n",
       "      <td>1422</td>\n",
       "      <td>124000</td>\n",
       "      <td>69</td>\n",
       "    </tr>\n",
       "  </tbody>\n",
       "</table>\n",
       "</div>"
      ],
      "text/plain": [
       "   # Bedrooms  Total Baths  # Rooms  Fin SF  List Price  Days On Market\n",
       "0           4          2.1        8    1825      164950              27\n",
       "1           4          2.1       11    1954      244950              12\n",
       "2           3          1.1        7    1520      107900              12\n",
       "3           3          1.0        5    1188      109270               8\n",
       "4           3          1.1        6    1422      124000              69"
      ]
     },
     "execution_count": 5,
     "metadata": {},
     "output_type": "execute_result"
    }
   ],
   "source": [
    "X_all = full_data.drop(['PID', 'Status', 'Area', 'Address', 'Sales Price', 'Subdivision', 'Type'], axis=1)\n",
    "X_all.head()"
   ]
  },
  {
   "cell_type": "code",
   "execution_count": 6,
   "metadata": {
    "collapsed": false
   },
   "outputs": [],
   "source": [
    "def preprocess_features(X):\n",
    "    outX = pd.DataFrame(index=X.index)  # output dataframe, initially empty\n",
    "\n",
    "    # Check each column\n",
    "    for col, col_data in X.iteritems():\n",
    "        # If data type is non-numeric, try to replace all yes/no values with 1/0\n",
    "        if col_data.dtype == object:\n",
    "            col_data = col_data.replace(['yes', 'no'], [1, 0])\n",
    "        # Note: This should change the data type for yes/no columns to int\n",
    "\n",
    "        # If still non-numeric, convert to one or more dummy variables\n",
    "        if col_data.dtype == object:\n",
    "            col_data = pd.get_dummies(col_data, prefix=col)  # e.g. 'school' => 'school_GP', 'school_MS'\n",
    "\n",
    "        outX = outX.join(col_data)  # collect column(s) in output dataframe\n",
    "\n",
    "    return outX"
   ]
  },
  {
   "cell_type": "code",
   "execution_count": 7,
   "metadata": {
    "collapsed": false
   },
   "outputs": [
    {
     "data": {
      "text/html": [
       "<div>\n",
       "<table border=\"1\" class=\"dataframe\">\n",
       "  <thead>\n",
       "    <tr style=\"text-align: right;\">\n",
       "      <th></th>\n",
       "      <th># Bedrooms</th>\n",
       "      <th>Total Baths</th>\n",
       "      <th># Rooms</th>\n",
       "      <th>Fin SF</th>\n",
       "      <th>List Price</th>\n",
       "      <th>Days On Market</th>\n",
       "    </tr>\n",
       "  </thead>\n",
       "  <tbody>\n",
       "    <tr>\n",
       "      <th>0</th>\n",
       "      <td>4</td>\n",
       "      <td>2.1</td>\n",
       "      <td>8</td>\n",
       "      <td>1825</td>\n",
       "      <td>164950</td>\n",
       "      <td>27</td>\n",
       "    </tr>\n",
       "    <tr>\n",
       "      <th>1</th>\n",
       "      <td>4</td>\n",
       "      <td>2.1</td>\n",
       "      <td>11</td>\n",
       "      <td>1954</td>\n",
       "      <td>244950</td>\n",
       "      <td>12</td>\n",
       "    </tr>\n",
       "    <tr>\n",
       "      <th>2</th>\n",
       "      <td>3</td>\n",
       "      <td>1.1</td>\n",
       "      <td>7</td>\n",
       "      <td>1520</td>\n",
       "      <td>107900</td>\n",
       "      <td>12</td>\n",
       "    </tr>\n",
       "    <tr>\n",
       "      <th>3</th>\n",
       "      <td>3</td>\n",
       "      <td>1.0</td>\n",
       "      <td>5</td>\n",
       "      <td>1188</td>\n",
       "      <td>109270</td>\n",
       "      <td>8</td>\n",
       "    </tr>\n",
       "    <tr>\n",
       "      <th>4</th>\n",
       "      <td>3</td>\n",
       "      <td>1.1</td>\n",
       "      <td>6</td>\n",
       "      <td>1422</td>\n",
       "      <td>124000</td>\n",
       "      <td>69</td>\n",
       "    </tr>\n",
       "  </tbody>\n",
       "</table>\n",
       "</div>"
      ],
      "text/plain": [
       "   # Bedrooms  Total Baths  # Rooms  Fin SF  List Price  Days On Market\n",
       "0           4          2.1        8    1825      164950              27\n",
       "1           4          2.1       11    1954      244950              12\n",
       "2           3          1.1        7    1520      107900              12\n",
       "3           3          1.0        5    1188      109270               8\n",
       "4           3          1.1        6    1422      124000              69"
      ]
     },
     "execution_count": 7,
     "metadata": {},
     "output_type": "execute_result"
    }
   ],
   "source": [
    "X_all = preprocess_features(X_all)\n",
    "X_all.head()"
   ]
  },
  {
   "cell_type": "code",
   "execution_count": 8,
   "metadata": {
    "collapsed": false
   },
   "outputs": [
    {
     "data": {
      "text/plain": [
       "GridSearchCV(cv=None, error_score='raise',\n",
       "       estimator=KNeighborsRegressor(algorithm='auto', leaf_size=30, metric='minkowski',\n",
       "          metric_params=None, n_jobs=1, n_neighbors=5, p=2,\n",
       "          weights='uniform'),\n",
       "       fit_params={}, iid=True, n_jobs=1,\n",
       "       param_grid=[{'n_neighbors': [2, 3, 4, 5, 6, 7, 8, 9, 10, 11, 12, 13, 14, 15, 16, 17, 18, 19], 'weights': ['uniform', 'distance']}],\n",
       "       pre_dispatch='2*n_jobs', refit=True, scoring=None, verbose=0)"
      ]
     },
     "execution_count": 8,
     "metadata": {},
     "output_type": "execute_result"
    }
   ],
   "source": [
    "from sklearn.neighbors import KNeighborsRegressor\n",
    "from sklearn import grid_search\n",
    "\n",
    "parameters = [{'weights': ['uniform', 'distance'], 'n_neighbors': range(2, 20)}]\n",
    "neigh  = grid_search.GridSearchCV(KNeighborsRegressor(), parameters)\n",
    "neigh.fit(X_all, y_all)"
   ]
  },
  {
   "cell_type": "code",
   "execution_count": 9,
   "metadata": {
    "collapsed": false
   },
   "outputs": [
    {
     "data": {
      "text/plain": [
       "0.10265801821800158"
      ]
     },
     "execution_count": 9,
     "metadata": {},
     "output_type": "execute_result"
    }
   ],
   "source": [
    "neigh.score(X_all, y_all)"
   ]
  },
  {
   "cell_type": "code",
   "execution_count": 10,
   "metadata": {
    "collapsed": false,
    "scrolled": true
   },
   "outputs": [
    {
     "name": "stdout",
     "output_type": "stream",
     "text": [
      "[ 191899.23076923]\n",
      "[-3100.76923077]\n"
     ]
    },
    {
     "name": "stderr",
     "output_type": "stream",
     "text": [
      "C:\\Users\\jlee1\\Anaconda2\\lib\\site-packages\\sklearn\\utils\\validation.py:386: DeprecationWarning: Passing 1d arrays as data is deprecated in 0.17 and willraise ValueError in 0.19. Reshape your data either using X.reshape(-1, 1) if your data has a single feature or X.reshape(1, -1) if it contains a single sample.\n",
      "  DeprecationWarning)\n"
     ]
    }
   ],
   "source": [
    "x = neigh.predict([4, 2.5,8,2088,195000,38])\n",
    "print 195000 + x \n",
    "print x"
   ]
  },
  {
   "cell_type": "code",
   "execution_count": 11,
   "metadata": {
    "collapsed": false
   },
   "outputs": [],
   "source": [
    "# from sklearn import svm\n",
    "# parameters = {'kernel':('linear', 'rbf'), 'C':range(1, 10)} \n",
    "# clf = grid_search.GridSearchCV(svm.SVR(), parameters)\n",
    "# clf.fit(X_all, y_all)\n",
    "# clf.predict([4, 2.5,8,2088,195000,38])"
   ]
  },
  {
   "cell_type": "code",
   "execution_count": 13,
   "metadata": {
    "collapsed": false
   },
   "outputs": [
    {
     "data": {
      "text/plain": [
       "count      237.000000\n",
       "mean     -3502.413502\n",
       "std       8347.869177\n",
       "min     -83000.000000\n",
       "25%      -5950.000000\n",
       "50%      -1500.000000\n",
       "75%          0.000000\n",
       "max      20500.000000\n",
       "dtype: float64"
      ]
     },
     "execution_count": 13,
     "metadata": {},
     "output_type": "execute_result"
    }
   ],
   "source": [
    "y_all.describe()"
   ]
  },
  {
   "cell_type": "code",
   "execution_count": null,
   "metadata": {
    "collapsed": false
   },
   "outputs": [],
   "source": []
  }
 ],
 "metadata": {
  "kernelspec": {
   "display_name": "Python 2",
   "language": "python",
   "name": "python2"
  },
  "language_info": {
   "codemirror_mode": {
    "name": "ipython",
    "version": 2
   },
   "file_extension": ".py",
   "mimetype": "text/x-python",
   "name": "python",
   "nbconvert_exporter": "python",
   "pygments_lexer": "ipython2",
   "version": "2.7.11"
  }
 },
 "nbformat": 4,
 "nbformat_minor": 0
}
