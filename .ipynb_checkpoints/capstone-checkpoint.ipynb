{
 "cells": [
  {
   "cell_type": "markdown",
   "metadata": {},
   "source": [
    "### Importing Libraries and Data"
   ]
  },
  {
   "cell_type": "code",
   "execution_count": 1,
   "metadata": {
    "collapsed": true
   },
   "outputs": [],
   "source": [
    "import numpy as np \n",
    "import pandas as pd\n",
    "import pandas.io.sql\n",
    "import pyodbc\n",
    "from IPython.display import Image\n",
    "import matplotlib.pyplot as plt\n",
    "import seaborn as sns \n",
    "import datetime\n",
    "from dateutil import parser\n",
    "# Show matplotlib plots inline (nicely formatted in the notebook)\n",
    "%matplotlib inline"
   ]
  },
  {
   "cell_type": "code",
   "execution_count": 2,
   "metadata": {
    "collapsed": false
   },
   "outputs": [],
   "source": [
    "full_data = pd.read_csv('data.csv').sort_index(axis=1)"
   ]
  },
  {
   "cell_type": "code",
   "execution_count": 3,
   "metadata": {
    "collapsed": false,
    "scrolled": true
   },
   "outputs": [
    {
     "data": {
      "text/html": [
       "<div>\n",
       "<table border=\"1\" class=\"dataframe\">\n",
       "  <thead>\n",
       "    <tr style=\"text-align: right;\">\n",
       "      <th></th>\n",
       "      <th># Baths</th>\n",
       "      <th># Bedrooms</th>\n",
       "      <th># Rooms</th>\n",
       "      <th>Address</th>\n",
       "      <th>Days On Market</th>\n",
       "      <th>Fin SF</th>\n",
       "      <th>List Price</th>\n",
       "      <th>PID</th>\n",
       "      <th>Sales Price</th>\n",
       "      <th>Status</th>\n",
       "      <th>Subdivision</th>\n",
       "    </tr>\n",
       "  </thead>\n",
       "  <tbody>\n",
       "    <tr>\n",
       "      <th>0</th>\n",
       "      <td>2.1</td>\n",
       "      <td>4</td>\n",
       "      <td>8</td>\n",
       "      <td>4802 Meredith Woods RD</td>\n",
       "      <td>27</td>\n",
       "      <td>1825</td>\n",
       "      <td>164950</td>\n",
       "      <td>754-764-6046</td>\n",
       "      <td>165000</td>\n",
       "      <td>CLOSD</td>\n",
       "      <td>Meredith Woods</td>\n",
       "    </tr>\n",
       "    <tr>\n",
       "      <th>1</th>\n",
       "      <td>2.1</td>\n",
       "      <td>4</td>\n",
       "      <td>11</td>\n",
       "      <td>4920 Meredith Woods RD</td>\n",
       "      <td>12</td>\n",
       "      <td>1954</td>\n",
       "      <td>244950</td>\n",
       "      <td>755-764-7741</td>\n",
       "      <td>244950</td>\n",
       "      <td>CLOSD</td>\n",
       "      <td>Meredith Woods</td>\n",
       "    </tr>\n",
       "    <tr>\n",
       "      <th>2</th>\n",
       "      <td>1.1</td>\n",
       "      <td>3</td>\n",
       "      <td>7</td>\n",
       "      <td>9704 Timber PASS</td>\n",
       "      <td>12</td>\n",
       "      <td>1520</td>\n",
       "      <td>107900</td>\n",
       "      <td>754-765-8344</td>\n",
       "      <td>110000</td>\n",
       "      <td>CLOSD</td>\n",
       "      <td>Bridgewood</td>\n",
       "    </tr>\n",
       "    <tr>\n",
       "      <th>3</th>\n",
       "      <td>1.0</td>\n",
       "      <td>3</td>\n",
       "      <td>5</td>\n",
       "      <td>5001 Broad Meadows RD</td>\n",
       "      <td>8</td>\n",
       "      <td>1188</td>\n",
       "      <td>109270</td>\n",
       "      <td>755-765-0931</td>\n",
       "      <td>109270</td>\n",
       "      <td>CLOSD</td>\n",
       "      <td>Bridgewood</td>\n",
       "    </tr>\n",
       "    <tr>\n",
       "      <th>4</th>\n",
       "      <td>1.1</td>\n",
       "      <td>3</td>\n",
       "      <td>6</td>\n",
       "      <td>9705 Timber PASS</td>\n",
       "      <td>69</td>\n",
       "      <td>1422</td>\n",
       "      <td>124000</td>\n",
       "      <td>754-765-9220</td>\n",
       "      <td>102000</td>\n",
       "      <td>CLOSD</td>\n",
       "      <td>Bridgewood</td>\n",
       "    </tr>\n",
       "  </tbody>\n",
       "</table>\n",
       "</div>"
      ],
      "text/plain": [
       "   # Baths  # Bedrooms  # Rooms                 Address  Days On Market  \\\n",
       "0      2.1           4        8  4802 Meredith Woods RD              27   \n",
       "1      2.1           4       11  4920 Meredith Woods RD              12   \n",
       "2      1.1           3        7        9704 Timber PASS              12   \n",
       "3      1.0           3        5   5001 Broad Meadows RD               8   \n",
       "4      1.1           3        6        9705 Timber PASS              69   \n",
       "\n",
       "   Fin SF  List Price           PID  Sales Price Status     Subdivision  \n",
       "0    1825      164950  754-764-6046       165000  CLOSD  Meredith Woods  \n",
       "1    1954      244950  755-764-7741       244950  CLOSD  Meredith Woods  \n",
       "2    1520      107900  754-765-8344       110000  CLOSD      Bridgewood  \n",
       "3    1188      109270  755-765-0931       109270  CLOSD      Bridgewood  \n",
       "4    1422      124000  754-765-9220       102000  CLOSD      Bridgewood  "
      ]
     },
     "execution_count": 3,
     "metadata": {},
     "output_type": "execute_result"
    }
   ],
   "source": [
    "full_data.head()"
   ]
  },
  {
   "cell_type": "markdown",
   "metadata": {},
   "source": [
    "### Removing identifer columns"
   ]
  },
  {
   "cell_type": "code",
   "execution_count": 4,
   "metadata": {
    "collapsed": false
   },
   "outputs": [
    {
     "data": {
      "text/html": [
       "<div>\n",
       "<table border=\"1\" class=\"dataframe\">\n",
       "  <thead>\n",
       "    <tr style=\"text-align: right;\">\n",
       "      <th></th>\n",
       "      <th># Baths</th>\n",
       "      <th># Bedrooms</th>\n",
       "      <th># Rooms</th>\n",
       "      <th>Days On Market</th>\n",
       "      <th>Fin SF</th>\n",
       "      <th>List Price</th>\n",
       "      <th>Sales Price</th>\n",
       "      <th>Subdivision</th>\n",
       "    </tr>\n",
       "  </thead>\n",
       "  <tbody>\n",
       "    <tr>\n",
       "      <th>0</th>\n",
       "      <td>2.1</td>\n",
       "      <td>4</td>\n",
       "      <td>8</td>\n",
       "      <td>27</td>\n",
       "      <td>1825</td>\n",
       "      <td>164950</td>\n",
       "      <td>165000</td>\n",
       "      <td>Meredith Woods</td>\n",
       "    </tr>\n",
       "    <tr>\n",
       "      <th>1</th>\n",
       "      <td>2.1</td>\n",
       "      <td>4</td>\n",
       "      <td>11</td>\n",
       "      <td>12</td>\n",
       "      <td>1954</td>\n",
       "      <td>244950</td>\n",
       "      <td>244950</td>\n",
       "      <td>Meredith Woods</td>\n",
       "    </tr>\n",
       "    <tr>\n",
       "      <th>2</th>\n",
       "      <td>1.1</td>\n",
       "      <td>3</td>\n",
       "      <td>7</td>\n",
       "      <td>12</td>\n",
       "      <td>1520</td>\n",
       "      <td>107900</td>\n",
       "      <td>110000</td>\n",
       "      <td>Bridgewood</td>\n",
       "    </tr>\n",
       "    <tr>\n",
       "      <th>3</th>\n",
       "      <td>1.0</td>\n",
       "      <td>3</td>\n",
       "      <td>5</td>\n",
       "      <td>8</td>\n",
       "      <td>1188</td>\n",
       "      <td>109270</td>\n",
       "      <td>109270</td>\n",
       "      <td>Bridgewood</td>\n",
       "    </tr>\n",
       "    <tr>\n",
       "      <th>4</th>\n",
       "      <td>1.1</td>\n",
       "      <td>3</td>\n",
       "      <td>6</td>\n",
       "      <td>69</td>\n",
       "      <td>1422</td>\n",
       "      <td>124000</td>\n",
       "      <td>102000</td>\n",
       "      <td>Bridgewood</td>\n",
       "    </tr>\n",
       "  </tbody>\n",
       "</table>\n",
       "</div>"
      ],
      "text/plain": [
       "   # Baths  # Bedrooms  # Rooms  Days On Market  Fin SF  List Price  \\\n",
       "0      2.1           4        8              27    1825      164950   \n",
       "1      2.1           4       11              12    1954      244950   \n",
       "2      1.1           3        7              12    1520      107900   \n",
       "3      1.0           3        5               8    1188      109270   \n",
       "4      1.1           3        6              69    1422      124000   \n",
       "\n",
       "   Sales Price     Subdivision  \n",
       "0       165000  Meredith Woods  \n",
       "1       244950  Meredith Woods  \n",
       "2       110000      Bridgewood  \n",
       "3       109270      Bridgewood  \n",
       "4       102000      Bridgewood  "
      ]
     },
     "execution_count": 4,
     "metadata": {},
     "output_type": "execute_result"
    }
   ],
   "source": [
    "full_data = full_data.drop(['PID', 'Address', 'Status'], axis=1)\n",
    "full_data.head()"
   ]
  },
  {
   "cell_type": "markdown",
   "metadata": {},
   "source": [
    "### Removing Data with Null Values"
   ]
  },
  {
   "cell_type": "code",
   "execution_count": 5,
   "metadata": {
    "collapsed": false
   },
   "outputs": [
    {
     "name": "stdout",
     "output_type": "stream",
     "text": [
      "# Baths have 0 data points with null values\n",
      "# Bedrooms have 0 data points with null values\n",
      "# Rooms have 0 data points with null values\n",
      "Days On Market have 0 data points with null values\n",
      "Fin SF have 0 data points with null values\n",
      "List Price have 0 data points with null values\n",
      "Sales Price have 0 data points with null values\n",
      "Subdivision have 0 data points with null values\n",
      "Number of clean data points: 237\n"
     ]
    }
   ],
   "source": [
    "for col, col_data in full_data.iteritems():\n",
    "    print \"{} have {} data points with null values\".format(col, col_data.isnull().sum())\n",
    "\n",
    "full_data = full_data.dropna()\n",
    "print \"Number of clean data points: {}\".format(len(full_data))"
   ]
  },
  {
   "cell_type": "markdown",
   "metadata": {},
   "source": [
    "### Removing Data with Negative or Zero Values"
   ]
  },
  {
   "cell_type": "code",
   "execution_count": 6,
   "metadata": {
    "collapsed": false
   },
   "outputs": [
    {
     "name": "stdout",
     "output_type": "stream",
     "text": [
      "Number of clean data points: 236\n"
     ]
    }
   ],
   "source": [
    "zero_or_negative = []\n",
    "for index, row in full_data.iterrows():\n",
    "    for col in full_data.columns:\n",
    "        if row[col] <= 0:\n",
    "            zero_or_negative.append(index)    \n",
    "\n",
    "full_data = full_data.drop(full_data.index[zero_or_negative].unique()).reset_index(drop = True)\n",
    "print \"Number of clean data points: {}\".format(len(full_data))"
   ]
  },
  {
   "cell_type": "markdown",
   "metadata": {},
   "source": [
    "### Removing Bad # Rooms Data"
   ]
  },
  {
   "cell_type": "code",
   "execution_count": 7,
   "metadata": {
    "collapsed": false
   },
   "outputs": [
    {
     "name": "stdout",
     "output_type": "stream",
     "text": [
      "Number of clean data points: 234\n"
     ]
    }
   ],
   "source": [
    "full_data = full_data[full_data['# Rooms'] - full_data['# Bedrooms'] - full_data['# Baths'] >= 0].reset_index(drop = True)\n",
    "print \"Number of clean data points: {}\".format(len(full_data))"
   ]
  },
  {
   "cell_type": "markdown",
   "metadata": {},
   "source": [
    "### Computing the Target"
   ]
  },
  {
   "cell_type": "code",
   "execution_count": 8,
   "metadata": {
    "collapsed": false
   },
   "outputs": [],
   "source": [
    "full_data['Target'] = (full_data['List Price'] - full_data['Sales Price'])\n",
    "full_data.drop(['Sales Price'],axis=1, inplace=True)"
   ]
  },
  {
   "cell_type": "code",
   "execution_count": 9,
   "metadata": {
    "collapsed": false
   },
   "outputs": [
    {
     "data": {
      "text/html": [
       "<div>\n",
       "<table border=\"1\" class=\"dataframe\">\n",
       "  <thead>\n",
       "    <tr style=\"text-align: right;\">\n",
       "      <th></th>\n",
       "      <th># Baths</th>\n",
       "      <th># Bedrooms</th>\n",
       "      <th># Rooms</th>\n",
       "      <th>Days On Market</th>\n",
       "      <th>Fin SF</th>\n",
       "      <th>List Price</th>\n",
       "      <th>Target</th>\n",
       "    </tr>\n",
       "  </thead>\n",
       "  <tbody>\n",
       "    <tr>\n",
       "      <th>count</th>\n",
       "      <td>234.000000</td>\n",
       "      <td>234.000000</td>\n",
       "      <td>234.000000</td>\n",
       "      <td>234.000000</td>\n",
       "      <td>234.000000</td>\n",
       "      <td>234.000000</td>\n",
       "      <td>234.000000</td>\n",
       "    </tr>\n",
       "    <tr>\n",
       "      <th>mean</th>\n",
       "      <td>2.023932</td>\n",
       "      <td>3.376068</td>\n",
       "      <td>7.158120</td>\n",
       "      <td>40.213675</td>\n",
       "      <td>1735.910256</td>\n",
       "      <td>209309.217949</td>\n",
       "      <td>3541.119658</td>\n",
       "    </tr>\n",
       "    <tr>\n",
       "      <th>std</th>\n",
       "      <td>0.351245</td>\n",
       "      <td>0.543814</td>\n",
       "      <td>1.338036</td>\n",
       "      <td>45.927696</td>\n",
       "      <td>346.664927</td>\n",
       "      <td>44735.681218</td>\n",
       "      <td>8391.740856</td>\n",
       "    </tr>\n",
       "    <tr>\n",
       "      <th>min</th>\n",
       "      <td>1.000000</td>\n",
       "      <td>3.000000</td>\n",
       "      <td>5.000000</td>\n",
       "      <td>1.000000</td>\n",
       "      <td>1016.000000</td>\n",
       "      <td>107900.000000</td>\n",
       "      <td>-20500.000000</td>\n",
       "    </tr>\n",
       "    <tr>\n",
       "      <th>25%</th>\n",
       "      <td>2.000000</td>\n",
       "      <td>3.000000</td>\n",
       "      <td>6.000000</td>\n",
       "      <td>8.250000</td>\n",
       "      <td>1518.500000</td>\n",
       "      <td>174950.000000</td>\n",
       "      <td>0.000000</td>\n",
       "    </tr>\n",
       "    <tr>\n",
       "      <th>50%</th>\n",
       "      <td>2.100000</td>\n",
       "      <td>3.000000</td>\n",
       "      <td>7.000000</td>\n",
       "      <td>23.500000</td>\n",
       "      <td>1662.000000</td>\n",
       "      <td>209950.000000</td>\n",
       "      <td>1500.000000</td>\n",
       "    </tr>\n",
       "    <tr>\n",
       "      <th>75%</th>\n",
       "      <td>2.100000</td>\n",
       "      <td>4.000000</td>\n",
       "      <td>8.000000</td>\n",
       "      <td>56.000000</td>\n",
       "      <td>1899.000000</td>\n",
       "      <td>238587.500000</td>\n",
       "      <td>5950.000000</td>\n",
       "    </tr>\n",
       "    <tr>\n",
       "      <th>max</th>\n",
       "      <td>3.000000</td>\n",
       "      <td>5.000000</td>\n",
       "      <td>12.000000</td>\n",
       "      <td>384.000000</td>\n",
       "      <td>3135.000000</td>\n",
       "      <td>375950.000000</td>\n",
       "      <td>83000.000000</td>\n",
       "    </tr>\n",
       "  </tbody>\n",
       "</table>\n",
       "</div>"
      ],
      "text/plain": [
       "          # Baths  # Bedrooms     # Rooms  Days On Market       Fin SF  \\\n",
       "count  234.000000  234.000000  234.000000      234.000000   234.000000   \n",
       "mean     2.023932    3.376068    7.158120       40.213675  1735.910256   \n",
       "std      0.351245    0.543814    1.338036       45.927696   346.664927   \n",
       "min      1.000000    3.000000    5.000000        1.000000  1016.000000   \n",
       "25%      2.000000    3.000000    6.000000        8.250000  1518.500000   \n",
       "50%      2.100000    3.000000    7.000000       23.500000  1662.000000   \n",
       "75%      2.100000    4.000000    8.000000       56.000000  1899.000000   \n",
       "max      3.000000    5.000000   12.000000      384.000000  3135.000000   \n",
       "\n",
       "          List Price        Target  \n",
       "count     234.000000    234.000000  \n",
       "mean   209309.217949   3541.119658  \n",
       "std     44735.681218   8391.740856  \n",
       "min    107900.000000 -20500.000000  \n",
       "25%    174950.000000      0.000000  \n",
       "50%    209950.000000   1500.000000  \n",
       "75%    238587.500000   5950.000000  \n",
       "max    375950.000000  83000.000000  "
      ]
     },
     "execution_count": 9,
     "metadata": {},
     "output_type": "execute_result"
    }
   ],
   "source": [
    "full_data.sort_index(axis=1, inplace=True)\n",
    "full_data.describe()"
   ]
  },
  {
   "cell_type": "markdown",
   "metadata": {},
   "source": [
    "### Numerical Feature Data Exploration"
   ]
  },
  {
   "cell_type": "code",
   "execution_count": 16,
   "metadata": {
    "collapsed": false
   },
   "outputs": [
    {
     "name": "stdout",
     "output_type": "stream",
     "text": [
      "# Baths has a correlation of 0.025 with the Target\n",
      "# Bedrooms has a correlation of 0.123 with the Target\n",
      "# Rooms has a correlation of 0.168 with the Target\n",
      "Days On Market has a correlation of 0.223 with the Target\n",
      "Fin SF has a correlation of 0.186 with the Target\n",
      "List Price has a correlation of 0.272 with the Target\n"
     ]
    }
   ],
   "source": [
    "numerical_features = full_data.drop(['Subdivision', 'Target'], axis=1)\n",
    "\n",
    "for col, col_data in full_data.iteritems():\n",
    "    if col in numerical_features:\n",
    "        print \"{} has a correlation of {} with the Target\".format(col, round(col_data.corr(full_data['Target']), 3))"
   ]
  },
  {
   "cell_type": "code",
   "execution_count": null,
   "metadata": {
    "collapsed": true
   },
   "outputs": [],
   "source": [
    "from sklearn.cross_validation import train_test_split\n",
    "from sklearn.tree import DecisionTreeRegressor\n",
    "\n",
    "feature_to_score = {}\n",
    "\n",
    "for column in numerical_features:\n",
    "    new_data = full_data.drop(column, axis = 1)\n",
    "    y_all = data[column]\n",
    "    X_train, X_test, y_train, y_test = train_test_split(new_data, y_all, test_size=0.25, random_state=42)\n",
    "    regressor = DecisionTreeRegressor(random_state=0)\n",
    "    regressor.fit(X_train, y_train)\n",
    "    feature_to_score[column] = regressor.score(X_test, y_test)"
   ]
  },
  {
   "cell_type": "markdown",
   "metadata": {},
   "source": [
    "### Categorical Feature Data Exploration"
   ]
  },
  {
   "cell_type": "code",
   "execution_count": 11,
   "metadata": {
    "collapsed": false
   },
   "outputs": [
    {
     "name": "stdout",
     "output_type": "stream",
     "text": [
      "Subdivision\n"
     ]
    },
    {
     "data": {
      "image/png": "[encoded data removed]",
      "text/plain": [
       "<matplotlib.figure.Figure at 0xab8b7b8>"
      ]
     },
     "metadata": {},
     "output_type": "display_data"
    },
    {
     "name": "stdout",
     "output_type": "stream",
     "text": [
      "Subdivision\n",
      "Bridgewood                 2366.785714\n",
      "Broad Meadows             34900.000000\n",
      "Country Meadows            1715.000000\n",
      "Craigs Mill                9533.333333\n",
      "Hearthside Ridge           1450.000000\n",
      "Meredith Woods             1828.841270\n",
      "None                       4000.000000\n",
      "Olde Springfield          15285.714286\n",
      "The Woods At Innsbrook     4743.043478\n",
      "Woods At Innsbrook         4873.194444\n",
      "Name: Target, dtype: float64\n",
      "\n",
      "\n"
     ]
    }
   ],
   "source": [
    "selected_features = ['Subdivision']\n",
    "for col, col_data in full_data.iteritems():\n",
    "    if col in selected_features:\n",
    "        print col \n",
    "        full_data.groupby(col).mean()['Target'].plot(kind='bar')\n",
    "        plt.show()\n",
    "        print full_data.groupby(col).mean()['Target']\n",
    "        print \"\\n\""
   ]
  },
  {
   "cell_type": "code",
   "execution_count": 12,
   "metadata": {
    "collapsed": false
   },
   "outputs": [
    {
     "data": {
      "text/html": [
       "<div>\n",
       "<table border=\"1\" class=\"dataframe\">\n",
       "  <thead>\n",
       "    <tr style=\"text-align: right;\">\n",
       "      <th></th>\n",
       "      <th># Baths</th>\n",
       "      <th># Bedrooms</th>\n",
       "      <th># Rooms</th>\n",
       "      <th>Days On Market</th>\n",
       "      <th>Fin SF</th>\n",
       "      <th>List Price</th>\n",
       "      <th>Subdivision</th>\n",
       "    </tr>\n",
       "  </thead>\n",
       "  <tbody>\n",
       "    <tr>\n",
       "      <th>0</th>\n",
       "      <td>2.1</td>\n",
       "      <td>4</td>\n",
       "      <td>8</td>\n",
       "      <td>27</td>\n",
       "      <td>1825</td>\n",
       "      <td>164950</td>\n",
       "      <td>Meredith Woods</td>\n",
       "    </tr>\n",
       "    <tr>\n",
       "      <th>1</th>\n",
       "      <td>2.1</td>\n",
       "      <td>4</td>\n",
       "      <td>11</td>\n",
       "      <td>12</td>\n",
       "      <td>1954</td>\n",
       "      <td>244950</td>\n",
       "      <td>Meredith Woods</td>\n",
       "    </tr>\n",
       "    <tr>\n",
       "      <th>2</th>\n",
       "      <td>1.1</td>\n",
       "      <td>3</td>\n",
       "      <td>7</td>\n",
       "      <td>12</td>\n",
       "      <td>1520</td>\n",
       "      <td>107900</td>\n",
       "      <td>Bridgewood</td>\n",
       "    </tr>\n",
       "    <tr>\n",
       "      <th>3</th>\n",
       "      <td>1.0</td>\n",
       "      <td>3</td>\n",
       "      <td>5</td>\n",
       "      <td>8</td>\n",
       "      <td>1188</td>\n",
       "      <td>109270</td>\n",
       "      <td>Bridgewood</td>\n",
       "    </tr>\n",
       "    <tr>\n",
       "      <th>4</th>\n",
       "      <td>1.1</td>\n",
       "      <td>3</td>\n",
       "      <td>6</td>\n",
       "      <td>69</td>\n",
       "      <td>1422</td>\n",
       "      <td>124000</td>\n",
       "      <td>Bridgewood</td>\n",
       "    </tr>\n",
       "  </tbody>\n",
       "</table>\n",
       "</div>"
      ],
      "text/plain": [
       "   # Baths  # Bedrooms  # Rooms  Days On Market  Fin SF  List Price  \\\n",
       "0      2.1           4        8              27    1825      164950   \n",
       "1      2.1           4       11              12    1954      244950   \n",
       "2      1.1           3        7              12    1520      107900   \n",
       "3      1.0           3        5               8    1188      109270   \n",
       "4      1.1           3        6              69    1422      124000   \n",
       "\n",
       "      Subdivision  \n",
       "0  Meredith Woods  \n",
       "1  Meredith Woods  \n",
       "2      Bridgewood  \n",
       "3      Bridgewood  \n",
       "4      Bridgewood  "
      ]
     },
     "execution_count": 12,
     "metadata": {},
     "output_type": "execute_result"
    }
   ],
   "source": [
    "X_all = full_data.drop(['Target'], axis=1)\n",
    "X_all.head()"
   ]
  },
  {
   "cell_type": "markdown",
   "metadata": {},
   "source": [
    "### Preprocess Feature Columns"
   ]
  },
  {
   "cell_type": "code",
   "execution_count": 13,
   "metadata": {
    "collapsed": false
   },
   "outputs": [],
   "source": [
    "def preprocess_features(X):\n",
    "    outX = pd.DataFrame(index=X.index)\n",
    "\n",
    "    for col, col_data in X.iteritems():\n",
    "        if col_data.dtype == object:\n",
    "            col_data = col_data.replace(['yes', 'no'], [1, 0])\n",
    "\n",
    "        if col_data.dtype == object:\n",
    "            col_data = pd.get_dummies(col_data, prefix=col) \n",
    "\n",
    "        outX = outX.join(col_data)\n",
    "\n",
    "    return outX"
   ]
  },
  {
   "cell_type": "code",
   "execution_count": 14,
   "metadata": {
    "collapsed": false
   },
   "outputs": [
    {
     "data": {
      "text/html": [
       "<div>\n",
       "<table border=\"1\" class=\"dataframe\">\n",
       "  <thead>\n",
       "    <tr style=\"text-align: right;\">\n",
       "      <th></th>\n",
       "      <th># Baths</th>\n",
       "      <th># Bedrooms</th>\n",
       "      <th># Rooms</th>\n",
       "      <th>Days On Market</th>\n",
       "      <th>Fin SF</th>\n",
       "      <th>List Price</th>\n",
       "      <th>Subdivision_Bridgewood</th>\n",
       "      <th>Subdivision_Broad Meadows</th>\n",
       "      <th>Subdivision_Country Meadows</th>\n",
       "      <th>Subdivision_Craigs Mill</th>\n",
       "      <th>Subdivision_Hearthside Ridge</th>\n",
       "      <th>Subdivision_Meredith Woods</th>\n",
       "      <th>Subdivision_None</th>\n",
       "      <th>Subdivision_Olde Springfield</th>\n",
       "      <th>Subdivision_The Woods At Innsbrook</th>\n",
       "      <th>Subdivision_Woods At Innsbrook</th>\n",
       "    </tr>\n",
       "  </thead>\n",
       "  <tbody>\n",
       "    <tr>\n",
       "      <th>count</th>\n",
       "      <td>234.000000</td>\n",
       "      <td>234.000000</td>\n",
       "      <td>234.000000</td>\n",
       "      <td>234.000000</td>\n",
       "      <td>234.000000</td>\n",
       "      <td>234.000000</td>\n",
       "      <td>234.000000</td>\n",
       "      <td>234.000000</td>\n",
       "      <td>234.000000</td>\n",
       "      <td>234.000000</td>\n",
       "      <td>234.000000</td>\n",
       "      <td>234.000000</td>\n",
       "      <td>234.000000</td>\n",
       "      <td>234.000000</td>\n",
       "      <td>234.000000</td>\n",
       "      <td>234.000000</td>\n",
       "    </tr>\n",
       "    <tr>\n",
       "      <th>mean</th>\n",
       "      <td>2.023932</td>\n",
       "      <td>3.376068</td>\n",
       "      <td>7.158120</td>\n",
       "      <td>40.213675</td>\n",
       "      <td>1735.910256</td>\n",
       "      <td>209309.217949</td>\n",
       "      <td>0.239316</td>\n",
       "      <td>0.004274</td>\n",
       "      <td>0.153846</td>\n",
       "      <td>0.038462</td>\n",
       "      <td>0.008547</td>\n",
       "      <td>0.269231</td>\n",
       "      <td>0.004274</td>\n",
       "      <td>0.029915</td>\n",
       "      <td>0.098291</td>\n",
       "      <td>0.153846</td>\n",
       "    </tr>\n",
       "    <tr>\n",
       "      <th>std</th>\n",
       "      <td>0.351245</td>\n",
       "      <td>0.543814</td>\n",
       "      <td>1.338036</td>\n",
       "      <td>45.927696</td>\n",
       "      <td>346.664927</td>\n",
       "      <td>44735.681218</td>\n",
       "      <td>0.427581</td>\n",
       "      <td>0.065372</td>\n",
       "      <td>0.361575</td>\n",
       "      <td>0.192720</td>\n",
       "      <td>0.092251</td>\n",
       "      <td>0.444511</td>\n",
       "      <td>0.065372</td>\n",
       "      <td>0.170717</td>\n",
       "      <td>0.298345</td>\n",
       "      <td>0.361575</td>\n",
       "    </tr>\n",
       "    <tr>\n",
       "      <th>min</th>\n",
       "      <td>1.000000</td>\n",
       "      <td>3.000000</td>\n",
       "      <td>5.000000</td>\n",
       "      <td>1.000000</td>\n",
       "      <td>1016.000000</td>\n",
       "      <td>107900.000000</td>\n",
       "      <td>0.000000</td>\n",
       "      <td>0.000000</td>\n",
       "      <td>0.000000</td>\n",
       "      <td>0.000000</td>\n",
       "      <td>0.000000</td>\n",
       "      <td>0.000000</td>\n",
       "      <td>0.000000</td>\n",
       "      <td>0.000000</td>\n",
       "      <td>0.000000</td>\n",
       "      <td>0.000000</td>\n",
       "    </tr>\n",
       "    <tr>\n",
       "      <th>25%</th>\n",
       "      <td>2.000000</td>\n",
       "      <td>3.000000</td>\n",
       "      <td>6.000000</td>\n",
       "      <td>8.250000</td>\n",
       "      <td>1518.500000</td>\n",
       "      <td>174950.000000</td>\n",
       "      <td>0.000000</td>\n",
       "      <td>0.000000</td>\n",
       "      <td>0.000000</td>\n",
       "      <td>0.000000</td>\n",
       "      <td>0.000000</td>\n",
       "      <td>0.000000</td>\n",
       "      <td>0.000000</td>\n",
       "      <td>0.000000</td>\n",
       "      <td>0.000000</td>\n",
       "      <td>0.000000</td>\n",
       "    </tr>\n",
       "    <tr>\n",
       "      <th>50%</th>\n",
       "      <td>2.100000</td>\n",
       "      <td>3.000000</td>\n",
       "      <td>7.000000</td>\n",
       "      <td>23.500000</td>\n",
       "      <td>1662.000000</td>\n",
       "      <td>209950.000000</td>\n",
       "      <td>0.000000</td>\n",
       "      <td>0.000000</td>\n",
       "      <td>0.000000</td>\n",
       "      <td>0.000000</td>\n",
       "      <td>0.000000</td>\n",
       "      <td>0.000000</td>\n",
       "      <td>0.000000</td>\n",
       "      <td>0.000000</td>\n",
       "      <td>0.000000</td>\n",
       "      <td>0.000000</td>\n",
       "    </tr>\n",
       "    <tr>\n",
       "      <th>75%</th>\n",
       "      <td>2.100000</td>\n",
       "      <td>4.000000</td>\n",
       "      <td>8.000000</td>\n",
       "      <td>56.000000</td>\n",
       "      <td>1899.000000</td>\n",
       "      <td>238587.500000</td>\n",
       "      <td>0.000000</td>\n",
       "      <td>0.000000</td>\n",
       "      <td>0.000000</td>\n",
       "      <td>0.000000</td>\n",
       "      <td>0.000000</td>\n",
       "      <td>1.000000</td>\n",
       "      <td>0.000000</td>\n",
       "      <td>0.000000</td>\n",
       "      <td>0.000000</td>\n",
       "      <td>0.000000</td>\n",
       "    </tr>\n",
       "    <tr>\n",
       "      <th>max</th>\n",
       "      <td>3.000000</td>\n",
       "      <td>5.000000</td>\n",
       "      <td>12.000000</td>\n",
       "      <td>384.000000</td>\n",
       "      <td>3135.000000</td>\n",
       "      <td>375950.000000</td>\n",
       "      <td>1.000000</td>\n",
       "      <td>1.000000</td>\n",
       "      <td>1.000000</td>\n",
       "      <td>1.000000</td>\n",
       "      <td>1.000000</td>\n",
       "      <td>1.000000</td>\n",
       "      <td>1.000000</td>\n",
       "      <td>1.000000</td>\n",
       "      <td>1.000000</td>\n",
       "      <td>1.000000</td>\n",
       "    </tr>\n",
       "  </tbody>\n",
       "</table>\n",
       "</div>"
      ],
      "text/plain": [
       "          # Baths  # Bedrooms     # Rooms  Days On Market       Fin SF  \\\n",
       "count  234.000000  234.000000  234.000000      234.000000   234.000000   \n",
       "mean     2.023932    3.376068    7.158120       40.213675  1735.910256   \n",
       "std      0.351245    0.543814    1.338036       45.927696   346.664927   \n",
       "min      1.000000    3.000000    5.000000        1.000000  1016.000000   \n",
       "25%      2.000000    3.000000    6.000000        8.250000  1518.500000   \n",
       "50%      2.100000    3.000000    7.000000       23.500000  1662.000000   \n",
       "75%      2.100000    4.000000    8.000000       56.000000  1899.000000   \n",
       "max      3.000000    5.000000   12.000000      384.000000  3135.000000   \n",
       "\n",
       "          List Price  Subdivision_Bridgewood  Subdivision_Broad Meadows  \\\n",
       "count     234.000000              234.000000                 234.000000   \n",
       "mean   209309.217949                0.239316                   0.004274   \n",
       "std     44735.681218                0.427581                   0.065372   \n",
       "min    107900.000000                0.000000                   0.000000   \n",
       "25%    174950.000000                0.000000                   0.000000   \n",
       "50%    209950.000000                0.000000                   0.000000   \n",
       "75%    238587.500000                0.000000                   0.000000   \n",
       "max    375950.000000                1.000000                   1.000000   \n",
       "\n",
       "       Subdivision_Country Meadows  Subdivision_Craigs Mill  \\\n",
       "count                   234.000000               234.000000   \n",
       "mean                      0.153846                 0.038462   \n",
       "std                       0.361575                 0.192720   \n",
       "min                       0.000000                 0.000000   \n",
       "25%                       0.000000                 0.000000   \n",
       "50%                       0.000000                 0.000000   \n",
       "75%                       0.000000                 0.000000   \n",
       "max                       1.000000                 1.000000   \n",
       "\n",
       "       Subdivision_Hearthside Ridge  Subdivision_Meredith Woods  \\\n",
       "count                    234.000000                  234.000000   \n",
       "mean                       0.008547                    0.269231   \n",
       "std                        0.092251                    0.444511   \n",
       "min                        0.000000                    0.000000   \n",
       "25%                        0.000000                    0.000000   \n",
       "50%                        0.000000                    0.000000   \n",
       "75%                        0.000000                    1.000000   \n",
       "max                        1.000000                    1.000000   \n",
       "\n",
       "       Subdivision_None  Subdivision_Olde Springfield  \\\n",
       "count        234.000000                    234.000000   \n",
       "mean           0.004274                      0.029915   \n",
       "std            0.065372                      0.170717   \n",
       "min            0.000000                      0.000000   \n",
       "25%            0.000000                      0.000000   \n",
       "50%            0.000000                      0.000000   \n",
       "75%            0.000000                      0.000000   \n",
       "max            1.000000                      1.000000   \n",
       "\n",
       "       Subdivision_The Woods At Innsbrook  Subdivision_Woods At Innsbrook  \n",
       "count                          234.000000                      234.000000  \n",
       "mean                             0.098291                        0.153846  \n",
       "std                              0.298345                        0.361575  \n",
       "min                              0.000000                        0.000000  \n",
       "25%                              0.000000                        0.000000  \n",
       "50%                              0.000000                        0.000000  \n",
       "75%                              0.000000                        0.000000  \n",
       "max                              1.000000                        1.000000  "
      ]
     },
     "execution_count": 14,
     "metadata": {},
     "output_type": "execute_result"
    }
   ],
   "source": [
    "y_all = full_data['Target']\n",
    "X_all = preprocess_features(X_all)\n",
    "X_all.sort_index(axis=1, inplace=True)\n",
    "X_all.describe()"
   ]
  },
  {
   "cell_type": "markdown",
   "metadata": {},
   "source": [
    "### Nearest Neighbors Regression"
   ]
  },
  {
   "cell_type": "code",
   "execution_count": 15,
   "metadata": {
    "collapsed": false,
    "scrolled": false
   },
   "outputs": [
    {
     "name": "stdout",
     "output_type": "stream",
     "text": [
      "Best parameters: {'n_neighbors': 19, 'weights': 'uniform'}, Best score: -0.169\n"
     ]
    }
   ],
   "source": [
    "from sklearn.neighbors import KNeighborsRegressor\n",
    "from sklearn import grid_search\n",
    "\n",
    "parameters = [{'weights': ['uniform', 'distance'], 'n_neighbors': range(2, 20)}]\n",
    "clf  = grid_search.GridSearchCV(KNeighborsRegressor(), param_grid = parameters, cv = 10)\n",
    "clf.fit(X_all, y_all)\n",
    "print \"Best parameters: {}, Best score: {}\".format(clf.best_params_, round(clf.best_score_, 3))"
   ]
  },
  {
   "cell_type": "code",
   "execution_count": null,
   "metadata": {
    "collapsed": true
   },
   "outputs": [],
   "source": []
  }
 ],
 "metadata": {
  "kernelspec": {
   "display_name": "Python 2",
   "language": "python",
   "name": "python2"
  },
  "language_info": {
   "codemirror_mode": {
    "name": "ipython",
    "version": 2
   },
   "file_extension": ".py",
   "mimetype": "text/x-python",
   "name": "python",
   "nbconvert_exporter": "python",
   "pygments_lexer": "ipython2",
   "version": "2.7.11"
  }
 },
 "nbformat": 4,
 "nbformat_minor": 0
}
