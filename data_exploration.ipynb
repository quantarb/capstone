{
 "cells": [
  {
   "cell_type": "markdown",
   "metadata": {},
   "source": [
    "# Machine Learning Engineer Nanodegree\n",
    "## Capstone Project\n",
    "## Project 5: Negotiating Buying a Home  "
   ]
  },
  {
   "cell_type": "markdown",
   "metadata": {},
   "source": [
    "Welcome to the third project of the Machine Learning Engineer Nanodegree! In this notebook, some template code has already been provided for you, and it will be your job to implement the additional functionality necessary to successfully complete this project. Sections that begin with **'Implementation'** in the header indicate that the following block of code will require additional functionality which you must provide. Instructions will be provided for each section and the specifics of the implementation are marked in the code block with a `'TODO'` statement. Please be sure to read the instructions carefully!\n",
    "\n",
    "In addition to implementing code, there will be questions that you must answer which relate to the project and your implementation. Each section where you will answer a question is preceded by a **'Question X'** header. Carefully read each question and provide thorough answers in the following text boxes that begin with **'Answer:'**. Your project submission will be evaluated based on your answers to each of the questions and the implementation you provide.  \n",
    "\n",
    ">**Note:** Code and Markdown cells can be executed using the **Shift + Enter** keyboard shortcut. In addition, Markdown cells can be edited by typically double-clicking the cell to enter edit mode."
   ]
  },
  {
   "cell_type": "markdown",
   "metadata": {},
   "source": [
    "## Getting Started\n",
    "\n",
    "In this project, you will analyze a dataset containing data on various customers' annual spending amounts (reported in *monetary units*) of diverse product categories for internal structure. One goal of this project is to best describe the variation in the different types of customers that a wholesale distributor interacts with. Doing so would equip the distributor with insight into how to best structure their delivery service to meet the needs of each customer.\n",
    "\n",
    "The dataset for this project can be found on the [UCI Machine Learning Repository](https://archive.ics.uci.edu/ml/datasets/Wholesale+customers). For the purposes of this project, the features `'Channel'` and `'Region'` will be excluded in the analysis — with focus instead on the six product categories recorded for customers.\n",
    "\n",
    "Run the code block below to load the wholesale customers dataset, along with a few of the necessary Python libraries required for this project. You will know the dataset loaded successfully if the size of the dataset is reported."
   ]
  },
  {
   "cell_type": "code",
   "execution_count": 2,
   "metadata": {
    "collapsed": false
   },
   "outputs": [
    {
     "name": "stdout",
     "output_type": "stream",
     "text": [
      "Dataset has 237 samples with 7 features each.\n"
     ]
    }
   ],
   "source": [
    "# Import libraries necessary for this project\n",
    "import numpy as np\n",
    "import pandas as pd\n",
    "import renders as rs\n",
    "from IPython.display import display # Allows the use of display() for DataFrames\n",
    "import matplotlib.pyplot as plt\n",
    "%matplotlib inline\n",
    "\n",
    "try:\n",
    "    data = pd.read_csv(\"data.csv\")\n",
    "    data = data.drop(['PID', 'Status', 'Address', 'Subdivision'], axis = 1)\n",
    "    print \"Dataset has {} samples with {} features each.\".format(*data.shape)\n",
    "except:\n",
    "    print \"Dataset could not be loaded. Is the dataset missing?\""
   ]
  },
  {
   "cell_type": "markdown",
   "metadata": {},
   "source": [
    "## Data Preprocessing\n",
    "In this section, we will preprocess the data by cleaning data and and removing outliers. Preprocessing data is often times a critical step in assuring that results you obtain from your analysis are significant and meaningful."
   ]
  },
  {
   "cell_type": "markdown",
   "metadata": {},
   "source": [
    "### Implementation: Data Cleaning\n",
    "\n",
    "We need to clean the data before we can do any analysis.  The statistics above shows that the minimum value for Fin SF is 0.  This is already a problem since a home cannot have Fin SF of zero for its size.  All the values in each column must be greater than zero.  Therefore, any row that contains values less than 1 will be removed.  Rows with null values will be removed as well.  Finally, we make sure that # Rooms is at least equal to the sum of # of Bedrooms and # Baths."
   ]
  },
  {
   "cell_type": "code",
   "execution_count": 3,
   "metadata": {
    "collapsed": false
   },
   "outputs": [
    {
     "data": {
      "text/html": [
       "<div>\n",
       "<table border=\"1\" class=\"dataframe\">\n",
       "  <thead>\n",
       "    <tr style=\"text-align: right;\">\n",
       "      <th></th>\n",
       "      <th># Bedrooms</th>\n",
       "      <th># Baths</th>\n",
       "      <th># Rooms</th>\n",
       "      <th>Fin SF</th>\n",
       "      <th>List Price</th>\n",
       "      <th>Sales Price</th>\n",
       "      <th>Days On Market</th>\n",
       "    </tr>\n",
       "  </thead>\n",
       "  <tbody>\n",
       "    <tr>\n",
       "      <th>count</th>\n",
       "      <td>234.000000</td>\n",
       "      <td>234.000000</td>\n",
       "      <td>234.000000</td>\n",
       "      <td>234.000000</td>\n",
       "      <td>234.000000</td>\n",
       "      <td>234.000000</td>\n",
       "      <td>234.000000</td>\n",
       "    </tr>\n",
       "    <tr>\n",
       "      <th>mean</th>\n",
       "      <td>3.376068</td>\n",
       "      <td>2.023932</td>\n",
       "      <td>7.158120</td>\n",
       "      <td>1735.910256</td>\n",
       "      <td>209309.217949</td>\n",
       "      <td>205768.098291</td>\n",
       "      <td>40.213675</td>\n",
       "    </tr>\n",
       "    <tr>\n",
       "      <th>std</th>\n",
       "      <td>0.543814</td>\n",
       "      <td>0.351245</td>\n",
       "      <td>1.338036</td>\n",
       "      <td>346.664927</td>\n",
       "      <td>44735.681218</td>\n",
       "      <td>43217.123404</td>\n",
       "      <td>45.927696</td>\n",
       "    </tr>\n",
       "    <tr>\n",
       "      <th>min</th>\n",
       "      <td>3.000000</td>\n",
       "      <td>1.000000</td>\n",
       "      <td>5.000000</td>\n",
       "      <td>1016.000000</td>\n",
       "      <td>107900.000000</td>\n",
       "      <td>102000.000000</td>\n",
       "      <td>1.000000</td>\n",
       "    </tr>\n",
       "    <tr>\n",
       "      <th>25%</th>\n",
       "      <td>3.000000</td>\n",
       "      <td>2.000000</td>\n",
       "      <td>6.000000</td>\n",
       "      <td>1518.500000</td>\n",
       "      <td>174950.000000</td>\n",
       "      <td>174950.000000</td>\n",
       "      <td>8.250000</td>\n",
       "    </tr>\n",
       "    <tr>\n",
       "      <th>50%</th>\n",
       "      <td>3.000000</td>\n",
       "      <td>2.100000</td>\n",
       "      <td>7.000000</td>\n",
       "      <td>1662.000000</td>\n",
       "      <td>209950.000000</td>\n",
       "      <td>205000.000000</td>\n",
       "      <td>23.500000</td>\n",
       "    </tr>\n",
       "    <tr>\n",
       "      <th>75%</th>\n",
       "      <td>4.000000</td>\n",
       "      <td>2.100000</td>\n",
       "      <td>8.000000</td>\n",
       "      <td>1899.000000</td>\n",
       "      <td>238587.500000</td>\n",
       "      <td>235000.000000</td>\n",
       "      <td>56.000000</td>\n",
       "    </tr>\n",
       "    <tr>\n",
       "      <th>max</th>\n",
       "      <td>5.000000</td>\n",
       "      <td>3.000000</td>\n",
       "      <td>12.000000</td>\n",
       "      <td>3135.000000</td>\n",
       "      <td>375950.000000</td>\n",
       "      <td>355000.000000</td>\n",
       "      <td>384.000000</td>\n",
       "    </tr>\n",
       "  </tbody>\n",
       "</table>\n",
       "</div>"
      ],
      "text/plain": [
       "       # Bedrooms     # Baths     # Rooms       Fin SF     List Price  \\\n",
       "count  234.000000  234.000000  234.000000   234.000000     234.000000   \n",
       "mean     3.376068    2.023932    7.158120  1735.910256  209309.217949   \n",
       "std      0.543814    0.351245    1.338036   346.664927   44735.681218   \n",
       "min      3.000000    1.000000    5.000000  1016.000000  107900.000000   \n",
       "25%      3.000000    2.000000    6.000000  1518.500000  174950.000000   \n",
       "50%      3.000000    2.100000    7.000000  1662.000000  209950.000000   \n",
       "75%      4.000000    2.100000    8.000000  1899.000000  238587.500000   \n",
       "max      5.000000    3.000000   12.000000  3135.000000  375950.000000   \n",
       "\n",
       "         Sales Price  Days On Market  \n",
       "count     234.000000      234.000000  \n",
       "mean   205768.098291       40.213675  \n",
       "std     43217.123404       45.927696  \n",
       "min    102000.000000        1.000000  \n",
       "25%    174950.000000        8.250000  \n",
       "50%    205000.000000       23.500000  \n",
       "75%    235000.000000       56.000000  \n",
       "max    355000.000000      384.000000  "
      ]
     },
     "metadata": {},
     "output_type": "display_data"
    }
   ],
   "source": [
    "zero_or_negative = []\n",
    "for i, r in data.iterrows():\n",
    "    for c in data.columns:\n",
    "        if r[c] <= 0:\n",
    "            zero_or_negative.append(i)  \n",
    "\n",
    "data = data.dropna().drop(data.index[zero_or_negative].unique())\n",
    "data = data[data['# Rooms'] - data['# Bedrooms'] - data['# Baths'] >= 0]\n",
    "data = data.reset_index(drop = True)\n",
    "display(data.describe())"
   ]
  },
  {
   "cell_type": "markdown",
   "metadata": {},
   "source": [
    "#### Observations: \n",
    "\n",
    "4 bad data points have been removed from the data set, because they were either null, less than 1, or are inconsistent.    "
   ]
  },
  {
   "cell_type": "markdown",
   "metadata": {},
   "source": [
    "### Implementation: Outlier Removal\n",
    "Detecting outliers in the data is extremely important in the data preprocessing step of any analysis. The presence of outliers can often skew results which take into consideration these data points. There are many \"rules of thumb\" for what constitutes an outlier in a dataset. Here, we will use [Tukey's Method for identfying outliers](http://datapigtechnologies.com/blog/index.php/highlighting-outliers-in-your-data-with-the-tukey-method/): An *outlier step* is calculated as 1.5 times the interquartile range (IQR). A data point with a feature that is beyond an outlier step outside of the IQR for that feature is considered abnormal."
   ]
  },
  {
   "cell_type": "code",
   "execution_count": 13,
   "metadata": {
    "collapsed": false
   },
   "outputs": [
    {
     "name": "stdout",
     "output_type": "stream",
     "text": [
      "Data points considered outliers for the feature '# Bedrooms':\n"
     ]
    },
    {
     "data": {
      "text/html": [
       "<div>\n",
       "<table border=\"1\" class=\"dataframe\">\n",
       "  <thead>\n",
       "    <tr style=\"text-align: right;\">\n",
       "      <th></th>\n",
       "      <th># Bedrooms</th>\n",
       "      <th># Baths</th>\n",
       "      <th># Rooms</th>\n",
       "      <th>Fin SF</th>\n",
       "      <th>List Price</th>\n",
       "      <th>Days On Market</th>\n",
       "      <th>Target</th>\n",
       "    </tr>\n",
       "  </thead>\n",
       "  <tbody>\n",
       "  </tbody>\n",
       "</table>\n",
       "</div>"
      ],
      "text/plain": [
       "Empty DataFrame\n",
       "Columns: [# Bedrooms, # Baths, # Rooms, Fin SF, List Price, Days On Market, Target]\n",
       "Index: []"
      ]
     },
     "metadata": {},
     "output_type": "display_data"
    },
    {
     "name": "stdout",
     "output_type": "stream",
     "text": [
      "Data points considered outliers for the feature '# Baths':\n"
     ]
    },
    {
     "data": {
      "text/html": [
       "<div>\n",
       "<table border=\"1\" class=\"dataframe\">\n",
       "  <thead>\n",
       "    <tr style=\"text-align: right;\">\n",
       "      <th></th>\n",
       "      <th># Bedrooms</th>\n",
       "      <th># Baths</th>\n",
       "      <th># Rooms</th>\n",
       "      <th>Fin SF</th>\n",
       "      <th>List Price</th>\n",
       "      <th>Days On Market</th>\n",
       "      <th>Target</th>\n",
       "    </tr>\n",
       "  </thead>\n",
       "  <tbody>\n",
       "    <tr>\n",
       "      <th>2</th>\n",
       "      <td>3</td>\n",
       "      <td>1.1</td>\n",
       "      <td>7</td>\n",
       "      <td>1520</td>\n",
       "      <td>107900</td>\n",
       "      <td>12</td>\n",
       "      <td>-2100</td>\n",
       "    </tr>\n",
       "    <tr>\n",
       "      <th>3</th>\n",
       "      <td>3</td>\n",
       "      <td>1.0</td>\n",
       "      <td>5</td>\n",
       "      <td>1188</td>\n",
       "      <td>109270</td>\n",
       "      <td>8</td>\n",
       "      <td>0</td>\n",
       "    </tr>\n",
       "    <tr>\n",
       "      <th>4</th>\n",
       "      <td>3</td>\n",
       "      <td>1.1</td>\n",
       "      <td>6</td>\n",
       "      <td>1422</td>\n",
       "      <td>124000</td>\n",
       "      <td>69</td>\n",
       "      <td>22000</td>\n",
       "    </tr>\n",
       "    <tr>\n",
       "      <th>5</th>\n",
       "      <td>3</td>\n",
       "      <td>1.1</td>\n",
       "      <td>5</td>\n",
       "      <td>1362</td>\n",
       "      <td>129950</td>\n",
       "      <td>6</td>\n",
       "      <td>-1550</td>\n",
       "    </tr>\n",
       "    <tr>\n",
       "      <th>11</th>\n",
       "      <td>3</td>\n",
       "      <td>1.1</td>\n",
       "      <td>6</td>\n",
       "      <td>1362</td>\n",
       "      <td>135000</td>\n",
       "      <td>5</td>\n",
       "      <td>2500</td>\n",
       "    </tr>\n",
       "    <tr>\n",
       "      <th>15</th>\n",
       "      <td>3</td>\n",
       "      <td>1.1</td>\n",
       "      <td>6</td>\n",
       "      <td>1416</td>\n",
       "      <td>149900</td>\n",
       "      <td>111</td>\n",
       "      <td>6900</td>\n",
       "    </tr>\n",
       "    <tr>\n",
       "      <th>23</th>\n",
       "      <td>3</td>\n",
       "      <td>1.1</td>\n",
       "      <td>6</td>\n",
       "      <td>1520</td>\n",
       "      <td>151950</td>\n",
       "      <td>3</td>\n",
       "      <td>-50</td>\n",
       "    </tr>\n",
       "    <tr>\n",
       "      <th>29</th>\n",
       "      <td>3</td>\n",
       "      <td>3.0</td>\n",
       "      <td>7</td>\n",
       "      <td>1600</td>\n",
       "      <td>159950</td>\n",
       "      <td>112</td>\n",
       "      <td>-8050</td>\n",
       "    </tr>\n",
       "    <tr>\n",
       "      <th>43</th>\n",
       "      <td>3</td>\n",
       "      <td>1.1</td>\n",
       "      <td>5</td>\n",
       "      <td>1362</td>\n",
       "      <td>167900</td>\n",
       "      <td>101</td>\n",
       "      <td>7400</td>\n",
       "    </tr>\n",
       "    <tr>\n",
       "      <th>45</th>\n",
       "      <td>3</td>\n",
       "      <td>1.1</td>\n",
       "      <td>6</td>\n",
       "      <td>1362</td>\n",
       "      <td>169500</td>\n",
       "      <td>37</td>\n",
       "      <td>4500</td>\n",
       "    </tr>\n",
       "    <tr>\n",
       "      <th>54</th>\n",
       "      <td>3</td>\n",
       "      <td>1.1</td>\n",
       "      <td>7</td>\n",
       "      <td>1560</td>\n",
       "      <td>169950</td>\n",
       "      <td>22</td>\n",
       "      <td>950</td>\n",
       "    </tr>\n",
       "    <tr>\n",
       "      <th>63</th>\n",
       "      <td>3</td>\n",
       "      <td>1.1</td>\n",
       "      <td>10</td>\n",
       "      <td>1520</td>\n",
       "      <td>176950</td>\n",
       "      <td>2</td>\n",
       "      <td>-5000</td>\n",
       "    </tr>\n",
       "    <tr>\n",
       "      <th>78</th>\n",
       "      <td>3</td>\n",
       "      <td>1.1</td>\n",
       "      <td>5</td>\n",
       "      <td>1362</td>\n",
       "      <td>184950</td>\n",
       "      <td>17</td>\n",
       "      <td>4950</td>\n",
       "    </tr>\n",
       "    <tr>\n",
       "      <th>84</th>\n",
       "      <td>4</td>\n",
       "      <td>3.0</td>\n",
       "      <td>7</td>\n",
       "      <td>2022</td>\n",
       "      <td>189950</td>\n",
       "      <td>23</td>\n",
       "      <td>9950</td>\n",
       "    </tr>\n",
       "    <tr>\n",
       "      <th>87</th>\n",
       "      <td>3</td>\n",
       "      <td>1.0</td>\n",
       "      <td>5</td>\n",
       "      <td>1188</td>\n",
       "      <td>189950</td>\n",
       "      <td>37</td>\n",
       "      <td>2450</td>\n",
       "    </tr>\n",
       "    <tr>\n",
       "      <th>92</th>\n",
       "      <td>3</td>\n",
       "      <td>1.1</td>\n",
       "      <td>6</td>\n",
       "      <td>1422</td>\n",
       "      <td>198000</td>\n",
       "      <td>4</td>\n",
       "      <td>6000</td>\n",
       "    </tr>\n",
       "    <tr>\n",
       "      <th>95</th>\n",
       "      <td>3</td>\n",
       "      <td>1.1</td>\n",
       "      <td>7</td>\n",
       "      <td>1552</td>\n",
       "      <td>199500</td>\n",
       "      <td>100</td>\n",
       "      <td>6000</td>\n",
       "    </tr>\n",
       "    <tr>\n",
       "      <th>97</th>\n",
       "      <td>5</td>\n",
       "      <td>3.0</td>\n",
       "      <td>8</td>\n",
       "      <td>1896</td>\n",
       "      <td>199900</td>\n",
       "      <td>3</td>\n",
       "      <td>-5100</td>\n",
       "    </tr>\n",
       "    <tr>\n",
       "      <th>103</th>\n",
       "      <td>3</td>\n",
       "      <td>1.1</td>\n",
       "      <td>5</td>\n",
       "      <td>1416</td>\n",
       "      <td>199950</td>\n",
       "      <td>24</td>\n",
       "      <td>950</td>\n",
       "    </tr>\n",
       "    <tr>\n",
       "      <th>105</th>\n",
       "      <td>3</td>\n",
       "      <td>3.0</td>\n",
       "      <td>7</td>\n",
       "      <td>1600</td>\n",
       "      <td>199950</td>\n",
       "      <td>100</td>\n",
       "      <td>7450</td>\n",
       "    </tr>\n",
       "    <tr>\n",
       "      <th>113</th>\n",
       "      <td>3</td>\n",
       "      <td>1.1</td>\n",
       "      <td>7</td>\n",
       "      <td>1576</td>\n",
       "      <td>204990</td>\n",
       "      <td>33</td>\n",
       "      <td>-10</td>\n",
       "    </tr>\n",
       "    <tr>\n",
       "      <th>114</th>\n",
       "      <td>4</td>\n",
       "      <td>3.0</td>\n",
       "      <td>7</td>\n",
       "      <td>1760</td>\n",
       "      <td>205000</td>\n",
       "      <td>8</td>\n",
       "      <td>0</td>\n",
       "    </tr>\n",
       "    <tr>\n",
       "      <th>120</th>\n",
       "      <td>3</td>\n",
       "      <td>1.1</td>\n",
       "      <td>6</td>\n",
       "      <td>1564</td>\n",
       "      <td>209950</td>\n",
       "      <td>22</td>\n",
       "      <td>950</td>\n",
       "    </tr>\n",
       "    <tr>\n",
       "      <th>128</th>\n",
       "      <td>3</td>\n",
       "      <td>1.1</td>\n",
       "      <td>7</td>\n",
       "      <td>1560</td>\n",
       "      <td>214500</td>\n",
       "      <td>73</td>\n",
       "      <td>-12100</td>\n",
       "    </tr>\n",
       "    <tr>\n",
       "      <th>146</th>\n",
       "      <td>3</td>\n",
       "      <td>1.1</td>\n",
       "      <td>6</td>\n",
       "      <td>1560</td>\n",
       "      <td>224427</td>\n",
       "      <td>103</td>\n",
       "      <td>4427</td>\n",
       "    </tr>\n",
       "    <tr>\n",
       "      <th>161</th>\n",
       "      <td>3</td>\n",
       "      <td>1.1</td>\n",
       "      <td>10</td>\n",
       "      <td>1520</td>\n",
       "      <td>229950</td>\n",
       "      <td>40</td>\n",
       "      <td>0</td>\n",
       "    </tr>\n",
       "    <tr>\n",
       "      <th>180</th>\n",
       "      <td>4</td>\n",
       "      <td>3.0</td>\n",
       "      <td>7</td>\n",
       "      <td>2000</td>\n",
       "      <td>239950</td>\n",
       "      <td>16</td>\n",
       "      <td>0</td>\n",
       "    </tr>\n",
       "    <tr>\n",
       "      <th>200</th>\n",
       "      <td>5</td>\n",
       "      <td>3.0</td>\n",
       "      <td>11</td>\n",
       "      <td>2409</td>\n",
       "      <td>249950</td>\n",
       "      <td>10</td>\n",
       "      <td>9950</td>\n",
       "    </tr>\n",
       "    <tr>\n",
       "      <th>210</th>\n",
       "      <td>5</td>\n",
       "      <td>3.0</td>\n",
       "      <td>11</td>\n",
       "      <td>2409</td>\n",
       "      <td>264900</td>\n",
       "      <td>19</td>\n",
       "      <td>1500</td>\n",
       "    </tr>\n",
       "  </tbody>\n",
       "</table>\n",
       "</div>"
      ],
      "text/plain": [
       "     # Bedrooms  # Baths  # Rooms  Fin SF  List Price  Days On Market  Target\n",
       "2             3      1.1        7    1520      107900              12   -2100\n",
       "3             3      1.0        5    1188      109270               8       0\n",
       "4             3      1.1        6    1422      124000              69   22000\n",
       "5             3      1.1        5    1362      129950               6   -1550\n",
       "11            3      1.1        6    1362      135000               5    2500\n",
       "15            3      1.1        6    1416      149900             111    6900\n",
       "23            3      1.1        6    1520      151950               3     -50\n",
       "29            3      3.0        7    1600      159950             112   -8050\n",
       "43            3      1.1        5    1362      167900             101    7400\n",
       "45            3      1.1        6    1362      169500              37    4500\n",
       "54            3      1.1        7    1560      169950              22     950\n",
       "63            3      1.1       10    1520      176950               2   -5000\n",
       "78            3      1.1        5    1362      184950              17    4950\n",
       "84            4      3.0        7    2022      189950              23    9950\n",
       "87            3      1.0        5    1188      189950              37    2450\n",
       "92            3      1.1        6    1422      198000               4    6000\n",
       "95            3      1.1        7    1552      199500             100    6000\n",
       "97            5      3.0        8    1896      199900               3   -5100\n",
       "103           3      1.1        5    1416      199950              24     950\n",
       "105           3      3.0        7    1600      199950             100    7450\n",
       "113           3      1.1        7    1576      204990              33     -10\n",
       "114           4      3.0        7    1760      205000               8       0\n",
       "120           3      1.1        6    1564      209950              22     950\n",
       "128           3      1.1        7    1560      214500              73  -12100\n",
       "146           3      1.1        6    1560      224427             103    4427\n",
       "161           3      1.1       10    1520      229950              40       0\n",
       "180           4      3.0        7    2000      239950              16       0\n",
       "200           5      3.0       11    2409      249950              10    9950\n",
       "210           5      3.0       11    2409      264900              19    1500"
      ]
     },
     "metadata": {},
     "output_type": "display_data"
    },
    {
     "name": "stdout",
     "output_type": "stream",
     "text": [
      "Data points considered outliers for the feature '# Rooms':\n"
     ]
    },
    {
     "data": {
      "text/html": [
       "<div>\n",
       "<table border=\"1\" class=\"dataframe\">\n",
       "  <thead>\n",
       "    <tr style=\"text-align: right;\">\n",
       "      <th></th>\n",
       "      <th># Bedrooms</th>\n",
       "      <th># Baths</th>\n",
       "      <th># Rooms</th>\n",
       "      <th>Fin SF</th>\n",
       "      <th>List Price</th>\n",
       "      <th>Days On Market</th>\n",
       "      <th>Target</th>\n",
       "    </tr>\n",
       "  </thead>\n",
       "  <tbody>\n",
       "  </tbody>\n",
       "</table>\n",
       "</div>"
      ],
      "text/plain": [
       "Empty DataFrame\n",
       "Columns: [# Bedrooms, # Baths, # Rooms, Fin SF, List Price, Days On Market, Target]\n",
       "Index: []"
      ]
     },
     "metadata": {},
     "output_type": "display_data"
    },
    {
     "name": "stdout",
     "output_type": "stream",
     "text": [
      "Data points considered outliers for the feature 'Fin SF':\n"
     ]
    },
    {
     "data": {
      "text/html": [
       "<div>\n",
       "<table border=\"1\" class=\"dataframe\">\n",
       "  <thead>\n",
       "    <tr style=\"text-align: right;\">\n",
       "      <th></th>\n",
       "      <th># Bedrooms</th>\n",
       "      <th># Baths</th>\n",
       "      <th># Rooms</th>\n",
       "      <th>Fin SF</th>\n",
       "      <th>List Price</th>\n",
       "      <th>Days On Market</th>\n",
       "      <th>Target</th>\n",
       "    </tr>\n",
       "  </thead>\n",
       "  <tbody>\n",
       "    <tr>\n",
       "      <th>159</th>\n",
       "      <td>4</td>\n",
       "      <td>2.1</td>\n",
       "      <td>8</td>\n",
       "      <td>2475</td>\n",
       "      <td>229950</td>\n",
       "      <td>36</td>\n",
       "      <td>0</td>\n",
       "    </tr>\n",
       "    <tr>\n",
       "      <th>224</th>\n",
       "      <td>5</td>\n",
       "      <td>2.1</td>\n",
       "      <td>10</td>\n",
       "      <td>2500</td>\n",
       "      <td>300000</td>\n",
       "      <td>37</td>\n",
       "      <td>5000</td>\n",
       "    </tr>\n",
       "    <tr>\n",
       "      <th>225</th>\n",
       "      <td>4</td>\n",
       "      <td>2.1</td>\n",
       "      <td>9</td>\n",
       "      <td>2500</td>\n",
       "      <td>319000</td>\n",
       "      <td>57</td>\n",
       "      <td>4000</td>\n",
       "    </tr>\n",
       "    <tr>\n",
       "      <th>226</th>\n",
       "      <td>4</td>\n",
       "      <td>2.1</td>\n",
       "      <td>8</td>\n",
       "      <td>2649</td>\n",
       "      <td>319900</td>\n",
       "      <td>7</td>\n",
       "      <td>0</td>\n",
       "    </tr>\n",
       "    <tr>\n",
       "      <th>227</th>\n",
       "      <td>4</td>\n",
       "      <td>2.1</td>\n",
       "      <td>9</td>\n",
       "      <td>2600</td>\n",
       "      <td>323900</td>\n",
       "      <td>46</td>\n",
       "      <td>13900</td>\n",
       "    </tr>\n",
       "    <tr>\n",
       "      <th>228</th>\n",
       "      <td>4</td>\n",
       "      <td>2.1</td>\n",
       "      <td>9</td>\n",
       "      <td>2498</td>\n",
       "      <td>324500</td>\n",
       "      <td>12</td>\n",
       "      <td>24500</td>\n",
       "    </tr>\n",
       "  </tbody>\n",
       "</table>\n",
       "</div>"
      ],
      "text/plain": [
       "     # Bedrooms  # Baths  # Rooms  Fin SF  List Price  Days On Market  Target\n",
       "159           4      2.1        8    2475      229950              36       0\n",
       "224           5      2.1       10    2500      300000              37    5000\n",
       "225           4      2.1        9    2500      319000              57    4000\n",
       "226           4      2.1        8    2649      319900               7       0\n",
       "227           4      2.1        9    2600      323900              46   13900\n",
       "228           4      2.1        9    2498      324500              12   24500"
      ]
     },
     "metadata": {},
     "output_type": "display_data"
    },
    {
     "name": "stdout",
     "output_type": "stream",
     "text": [
      "Data points considered outliers for the feature 'List Price':\n"
     ]
    },
    {
     "data": {
      "text/html": [
       "<div>\n",
       "<table border=\"1\" class=\"dataframe\">\n",
       "  <thead>\n",
       "    <tr style=\"text-align: right;\">\n",
       "      <th></th>\n",
       "      <th># Bedrooms</th>\n",
       "      <th># Baths</th>\n",
       "      <th># Rooms</th>\n",
       "      <th>Fin SF</th>\n",
       "      <th>List Price</th>\n",
       "      <th>Days On Market</th>\n",
       "      <th>Target</th>\n",
       "    </tr>\n",
       "  </thead>\n",
       "  <tbody>\n",
       "  </tbody>\n",
       "</table>\n",
       "</div>"
      ],
      "text/plain": [
       "Empty DataFrame\n",
       "Columns: [# Bedrooms, # Baths, # Rooms, Fin SF, List Price, Days On Market, Target]\n",
       "Index: []"
      ]
     },
     "metadata": {},
     "output_type": "display_data"
    },
    {
     "name": "stdout",
     "output_type": "stream",
     "text": [
      "Data points considered outliers for the feature 'Days On Market':\n"
     ]
    },
    {
     "data": {
      "text/html": [
       "<div>\n",
       "<table border=\"1\" class=\"dataframe\">\n",
       "  <thead>\n",
       "    <tr style=\"text-align: right;\">\n",
       "      <th></th>\n",
       "      <th># Bedrooms</th>\n",
       "      <th># Baths</th>\n",
       "      <th># Rooms</th>\n",
       "      <th>Fin SF</th>\n",
       "      <th>List Price</th>\n",
       "      <th>Days On Market</th>\n",
       "      <th>Target</th>\n",
       "    </tr>\n",
       "  </thead>\n",
       "  <tbody>\n",
       "    <tr>\n",
       "      <th>7</th>\n",
       "      <td>3</td>\n",
       "      <td>2.0</td>\n",
       "      <td>6</td>\n",
       "      <td>1530</td>\n",
       "      <td>134500</td>\n",
       "      <td>132</td>\n",
       "      <td>-20500</td>\n",
       "    </tr>\n",
       "    <tr>\n",
       "      <th>41</th>\n",
       "      <td>3</td>\n",
       "      <td>2.0</td>\n",
       "      <td>8</td>\n",
       "      <td>1480</td>\n",
       "      <td>165000</td>\n",
       "      <td>384</td>\n",
       "      <td>17000</td>\n",
       "    </tr>\n",
       "    <tr>\n",
       "      <th>72</th>\n",
       "      <td>4</td>\n",
       "      <td>2.0</td>\n",
       "      <td>6</td>\n",
       "      <td>1404</td>\n",
       "      <td>182500</td>\n",
       "      <td>178</td>\n",
       "      <td>8500</td>\n",
       "    </tr>\n",
       "    <tr>\n",
       "      <th>110</th>\n",
       "      <td>4</td>\n",
       "      <td>2.1</td>\n",
       "      <td>11</td>\n",
       "      <td>1840</td>\n",
       "      <td>204950</td>\n",
       "      <td>237</td>\n",
       "      <td>24950</td>\n",
       "    </tr>\n",
       "    <tr>\n",
       "      <th>123</th>\n",
       "      <td>4</td>\n",
       "      <td>2.1</td>\n",
       "      <td>8</td>\n",
       "      <td>1954</td>\n",
       "      <td>209950</td>\n",
       "      <td>156</td>\n",
       "      <td>0</td>\n",
       "    </tr>\n",
       "    <tr>\n",
       "      <th>135</th>\n",
       "      <td>3</td>\n",
       "      <td>2.0</td>\n",
       "      <td>10</td>\n",
       "      <td>1560</td>\n",
       "      <td>217950</td>\n",
       "      <td>136</td>\n",
       "      <td>1950</td>\n",
       "    </tr>\n",
       "    <tr>\n",
       "      <th>188</th>\n",
       "      <td>4</td>\n",
       "      <td>2.1</td>\n",
       "      <td>8</td>\n",
       "      <td>2000</td>\n",
       "      <td>247500</td>\n",
       "      <td>129</td>\n",
       "      <td>12500</td>\n",
       "    </tr>\n",
       "  </tbody>\n",
       "</table>\n",
       "</div>"
      ],
      "text/plain": [
       "     # Bedrooms  # Baths  # Rooms  Fin SF  List Price  Days On Market  Target\n",
       "7             3      2.0        6    1530      134500             132  -20500\n",
       "41            3      2.0        8    1480      165000             384   17000\n",
       "72            4      2.0        6    1404      182500             178    8500\n",
       "110           4      2.1       11    1840      204950             237   24950\n",
       "123           4      2.1        8    1954      209950             156       0\n",
       "135           3      2.0       10    1560      217950             136    1950\n",
       "188           4      2.1        8    2000      247500             129   12500"
      ]
     },
     "metadata": {},
     "output_type": "display_data"
    },
    {
     "name": "stdout",
     "output_type": "stream",
     "text": [
      "Data points considered outliers for the feature 'Target':\n"
     ]
    },
    {
     "data": {
      "text/html": [
       "<div>\n",
       "<table border=\"1\" class=\"dataframe\">\n",
       "  <thead>\n",
       "    <tr style=\"text-align: right;\">\n",
       "      <th></th>\n",
       "      <th># Bedrooms</th>\n",
       "      <th># Baths</th>\n",
       "      <th># Rooms</th>\n",
       "      <th>Fin SF</th>\n",
       "      <th>List Price</th>\n",
       "      <th>Days On Market</th>\n",
       "      <th>Target</th>\n",
       "    </tr>\n",
       "  </thead>\n",
       "  <tbody>\n",
       "    <tr>\n",
       "      <th>4</th>\n",
       "      <td>3</td>\n",
       "      <td>1.1</td>\n",
       "      <td>6</td>\n",
       "      <td>1422</td>\n",
       "      <td>124000</td>\n",
       "      <td>69</td>\n",
       "      <td>22000</td>\n",
       "    </tr>\n",
       "    <tr>\n",
       "      <th>7</th>\n",
       "      <td>3</td>\n",
       "      <td>2.0</td>\n",
       "      <td>6</td>\n",
       "      <td>1530</td>\n",
       "      <td>134500</td>\n",
       "      <td>132</td>\n",
       "      <td>-20500</td>\n",
       "    </tr>\n",
       "    <tr>\n",
       "      <th>8</th>\n",
       "      <td>4</td>\n",
       "      <td>2.1</td>\n",
       "      <td>8</td>\n",
       "      <td>1872</td>\n",
       "      <td>134640</td>\n",
       "      <td>22</td>\n",
       "      <td>-10760</td>\n",
       "    </tr>\n",
       "    <tr>\n",
       "      <th>35</th>\n",
       "      <td>3</td>\n",
       "      <td>2.1</td>\n",
       "      <td>6</td>\n",
       "      <td>1525</td>\n",
       "      <td>162000</td>\n",
       "      <td>44</td>\n",
       "      <td>41000</td>\n",
       "    </tr>\n",
       "    <tr>\n",
       "      <th>41</th>\n",
       "      <td>3</td>\n",
       "      <td>2.0</td>\n",
       "      <td>8</td>\n",
       "      <td>1480</td>\n",
       "      <td>165000</td>\n",
       "      <td>384</td>\n",
       "      <td>17000</td>\n",
       "    </tr>\n",
       "    <tr>\n",
       "      <th>44</th>\n",
       "      <td>3</td>\n",
       "      <td>2.1</td>\n",
       "      <td>7</td>\n",
       "      <td>1660</td>\n",
       "      <td>168000</td>\n",
       "      <td>41</td>\n",
       "      <td>18000</td>\n",
       "    </tr>\n",
       "    <tr>\n",
       "      <th>110</th>\n",
       "      <td>4</td>\n",
       "      <td>2.1</td>\n",
       "      <td>11</td>\n",
       "      <td>1840</td>\n",
       "      <td>204950</td>\n",
       "      <td>237</td>\n",
       "      <td>24950</td>\n",
       "    </tr>\n",
       "    <tr>\n",
       "      <th>115</th>\n",
       "      <td>3</td>\n",
       "      <td>2.1</td>\n",
       "      <td>6</td>\n",
       "      <td>1618</td>\n",
       "      <td>209900</td>\n",
       "      <td>64</td>\n",
       "      <td>19900</td>\n",
       "    </tr>\n",
       "    <tr>\n",
       "      <th>128</th>\n",
       "      <td>3</td>\n",
       "      <td>1.1</td>\n",
       "      <td>7</td>\n",
       "      <td>1560</td>\n",
       "      <td>214500</td>\n",
       "      <td>73</td>\n",
       "      <td>-12100</td>\n",
       "    </tr>\n",
       "    <tr>\n",
       "      <th>132</th>\n",
       "      <td>3</td>\n",
       "      <td>2.0</td>\n",
       "      <td>7</td>\n",
       "      <td>1728</td>\n",
       "      <td>214950</td>\n",
       "      <td>11</td>\n",
       "      <td>14950</td>\n",
       "    </tr>\n",
       "    <tr>\n",
       "      <th>169</th>\n",
       "      <td>3</td>\n",
       "      <td>2.1</td>\n",
       "      <td>7</td>\n",
       "      <td>1808</td>\n",
       "      <td>234950</td>\n",
       "      <td>104</td>\n",
       "      <td>14950</td>\n",
       "    </tr>\n",
       "    <tr>\n",
       "      <th>203</th>\n",
       "      <td>3</td>\n",
       "      <td>2.1</td>\n",
       "      <td>7</td>\n",
       "      <td>1824</td>\n",
       "      <td>254900</td>\n",
       "      <td>48</td>\n",
       "      <td>14900</td>\n",
       "    </tr>\n",
       "    <tr>\n",
       "      <th>209</th>\n",
       "      <td>4</td>\n",
       "      <td>2.1</td>\n",
       "      <td>8</td>\n",
       "      <td>2308</td>\n",
       "      <td>263000</td>\n",
       "      <td>22</td>\n",
       "      <td>83000</td>\n",
       "    </tr>\n",
       "    <tr>\n",
       "      <th>213</th>\n",
       "      <td>3</td>\n",
       "      <td>2.1</td>\n",
       "      <td>9</td>\n",
       "      <td>1816</td>\n",
       "      <td>274900</td>\n",
       "      <td>58</td>\n",
       "      <td>34900</td>\n",
       "    </tr>\n",
       "    <tr>\n",
       "      <th>228</th>\n",
       "      <td>4</td>\n",
       "      <td>2.1</td>\n",
       "      <td>9</td>\n",
       "      <td>2498</td>\n",
       "      <td>324500</td>\n",
       "      <td>12</td>\n",
       "      <td>24500</td>\n",
       "    </tr>\n",
       "  </tbody>\n",
       "</table>\n",
       "</div>"
      ],
      "text/plain": [
       "     # Bedrooms  # Baths  # Rooms  Fin SF  List Price  Days On Market  Target\n",
       "4             3      1.1        6    1422      124000              69   22000\n",
       "7             3      2.0        6    1530      134500             132  -20500\n",
       "8             4      2.1        8    1872      134640              22  -10760\n",
       "35            3      2.1        6    1525      162000              44   41000\n",
       "41            3      2.0        8    1480      165000             384   17000\n",
       "44            3      2.1        7    1660      168000              41   18000\n",
       "110           4      2.1       11    1840      204950             237   24950\n",
       "115           3      2.1        6    1618      209900              64   19900\n",
       "128           3      1.1        7    1560      214500              73  -12100\n",
       "132           3      2.0        7    1728      214950              11   14950\n",
       "169           3      2.1        7    1808      234950             104   14950\n",
       "203           3      2.1        7    1824      254900              48   14900\n",
       "209           4      2.1        8    2308      263000              22   83000\n",
       "213           3      2.1        9    1816      274900              58   34900\n",
       "228           4      2.1        9    2498      324500              12   24500"
      ]
     },
     "metadata": {},
     "output_type": "display_data"
    }
   ],
   "source": [
    "# For each feature find the data points with extreme high or low values\n",
    "index_to_outliers = {}\n",
    "for feature in data.keys():\n",
    "    # TODO: Calculate Q1 (25th percentile of the data) for the given feature\n",
    "    Q1 = data[feature].quantile(0.25)\n",
    "    \n",
    "    # TODO: Calculate Q3 (75th percentile of the data) for the given feature\n",
    "    Q3 = data[feature].quantile(0.75)\n",
    "    \n",
    "    # TODO: Use the interquartile range to calculate an outlier step (1.5 times the interquartile range)\n",
    "    step = step = 1.5 * (Q3 - Q1)\n",
    "    \n",
    "    # Display the outliers\n",
    "    print \"Data points considered outliers for the feature '{}':\".format(feature)\n",
    "    outliers = data[~((data[feature] >= Q1 - step) & (data[feature] <= Q3 + step))] \n",
    "    display(outliers)\n",
    "    \n",
    "    for i in outliers.index.tolist():\n",
    "        if i in index_to_outliers:\n",
    "            index_to_outliers[i] += 1\n",
    "        else:\n",
    "            index_to_outliers[i] = 1\n",
    "    \n",
    "filtered_dict = {k:v for k,v in index_to_outliers.iteritems() if v > 1}\n",
    "    \n",
    "    \n",
    "# OPTIONAL: Select the indices for data points you wish to remove\n",
    "outliers  = [filtered_dict.keys()]\n",
    "\n",
    "# Remove the outliers, if any were specified\n",
    "data = data.drop(data.index[outliers]).reset_index(drop = True)"
   ]
  },
  {
   "cell_type": "code",
   "execution_count": 14,
   "metadata": {
    "collapsed": false
   },
   "outputs": [
    {
     "name": "stdout",
     "output_type": "stream",
     "text": [
      "The datapoint 128 has outliers for 2 features\n",
      "The datapoint 4 has outliers for 2 features\n",
      "The datapoint 7 has outliers for 2 features\n",
      "The datapoint 41 has outliers for 2 features\n",
      "The datapoint 110 has outliers for 2 features\n",
      "The datapoint 228 has outliers for 2 features\n"
     ]
    }
   ],
   "source": [
    "for key, value in filtered_dict.iteritems():\n",
    "    print \"The datapoint {} has outliers for {} features\".format(key, value)"
   ]
  },
  {
   "cell_type": "markdown",
   "metadata": {
    "collapsed": false
   },
   "source": [
    "#### Observations:\n",
    "\n",
    "The data points had more than one outlier per feature were removed. Those data points are more likely to be irregularities since there were outliers found in multiple features. They should be removed, because regression models are sensitive to outliers."
   ]
  },
  {
   "cell_type": "markdown",
   "metadata": {},
   "source": [
    "### Implementation: Identify feature and target column\n",
    "\n",
    "The feature columns are the inputs we will use to predict our target column.  A new buyer will have access to every column except for Sales Price when they're purchasing a new home.  They cannot know what the sale prices without thoroughly negotiating with the seller.  However, we trying to predict the difference between the List Price and Sales Price rather than the Sales Price.  Therefore, we need to take the difference between the List and Sale Price to create our target column."
   ]
  },
  {
   "cell_type": "code",
   "execution_count": 6,
   "metadata": {
    "collapsed": false
   },
   "outputs": [],
   "source": [
    "data['Target'] = data['List Price'] - data['Sales Price']\n",
    "data = data.drop(['Sales Price'], axis=1)\n",
    "features = data.drop(['Target'], axis=1)\n",
    "target = data['Target']"
   ]
  },
  {
   "cell_type": "markdown",
   "metadata": {},
   "source": [
    "## Data Exploration\n",
    "\n",
    "In this section, we will begin exploring the data through visualizations and code to understand how each feature is related to the others."
   ]
  },
  {
   "cell_type": "code",
   "execution_count": 16,
   "metadata": {
    "collapsed": false
   },
   "outputs": [
    {
     "data": {
      "text/html": [
       "<div>\n",
       "<table border=\"1\" class=\"dataframe\">\n",
       "  <thead>\n",
       "    <tr style=\"text-align: right;\">\n",
       "      <th></th>\n",
       "      <th># Bedrooms</th>\n",
       "      <th># Baths</th>\n",
       "      <th># Rooms</th>\n",
       "      <th>Fin SF</th>\n",
       "      <th>List Price</th>\n",
       "      <th>Days On Market</th>\n",
       "      <th>Target</th>\n",
       "    </tr>\n",
       "  </thead>\n",
       "  <tbody>\n",
       "    <tr>\n",
       "      <th>count</th>\n",
       "      <td>223.000000</td>\n",
       "      <td>223.000000</td>\n",
       "      <td>223.000000</td>\n",
       "      <td>223.000000</td>\n",
       "      <td>223.000000</td>\n",
       "      <td>223.000000</td>\n",
       "      <td>223.000000</td>\n",
       "    </tr>\n",
       "    <tr>\n",
       "      <th>mean</th>\n",
       "      <td>3.349776</td>\n",
       "      <td>2.021973</td>\n",
       "      <td>7.085202</td>\n",
       "      <td>1712.654709</td>\n",
       "      <td>207746.892377</td>\n",
       "      <td>35.856502</td>\n",
       "      <td>3302.116592</td>\n",
       "    </tr>\n",
       "    <tr>\n",
       "      <th>std</th>\n",
       "      <td>0.514289</td>\n",
       "      <td>0.336264</td>\n",
       "      <td>1.261668</td>\n",
       "      <td>308.852587</td>\n",
       "      <td>41705.866541</td>\n",
       "      <td>34.977175</td>\n",
       "      <td>7877.085668</td>\n",
       "    </tr>\n",
       "    <tr>\n",
       "      <th>min</th>\n",
       "      <td>3.000000</td>\n",
       "      <td>1.000000</td>\n",
       "      <td>5.000000</td>\n",
       "      <td>1016.000000</td>\n",
       "      <td>107900.000000</td>\n",
       "      <td>1.000000</td>\n",
       "      <td>-10760.000000</td>\n",
       "    </tr>\n",
       "    <tr>\n",
       "      <th>25%</th>\n",
       "      <td>3.000000</td>\n",
       "      <td>2.000000</td>\n",
       "      <td>6.000000</td>\n",
       "      <td>1515.000000</td>\n",
       "      <td>174950.000000</td>\n",
       "      <td>8.000000</td>\n",
       "      <td>0.000000</td>\n",
       "    </tr>\n",
       "    <tr>\n",
       "      <th>50%</th>\n",
       "      <td>3.000000</td>\n",
       "      <td>2.100000</td>\n",
       "      <td>7.000000</td>\n",
       "      <td>1660.000000</td>\n",
       "      <td>209900.000000</td>\n",
       "      <td>23.000000</td>\n",
       "      <td>1400.000000</td>\n",
       "    </tr>\n",
       "    <tr>\n",
       "      <th>75%</th>\n",
       "      <td>4.000000</td>\n",
       "      <td>2.100000</td>\n",
       "      <td>8.000000</td>\n",
       "      <td>1884.000000</td>\n",
       "      <td>235900.000000</td>\n",
       "      <td>52.500000</td>\n",
       "      <td>5425.000000</td>\n",
       "    </tr>\n",
       "    <tr>\n",
       "      <th>max</th>\n",
       "      <td>5.000000</td>\n",
       "      <td>3.000000</td>\n",
       "      <td>11.000000</td>\n",
       "      <td>2649.000000</td>\n",
       "      <td>323900.000000</td>\n",
       "      <td>178.000000</td>\n",
       "      <td>83000.000000</td>\n",
       "    </tr>\n",
       "  </tbody>\n",
       "</table>\n",
       "</div>"
      ],
      "text/plain": [
       "       # Bedrooms     # Baths     # Rooms       Fin SF     List Price  \\\n",
       "count  223.000000  223.000000  223.000000   223.000000     223.000000   \n",
       "mean     3.349776    2.021973    7.085202  1712.654709  207746.892377   \n",
       "std      0.514289    0.336264    1.261668   308.852587   41705.866541   \n",
       "min      3.000000    1.000000    5.000000  1016.000000  107900.000000   \n",
       "25%      3.000000    2.000000    6.000000  1515.000000  174950.000000   \n",
       "50%      3.000000    2.100000    7.000000  1660.000000  209900.000000   \n",
       "75%      4.000000    2.100000    8.000000  1884.000000  235900.000000   \n",
       "max      5.000000    3.000000   11.000000  2649.000000  323900.000000   \n",
       "\n",
       "       Days On Market        Target  \n",
       "count      223.000000    223.000000  \n",
       "mean        35.856502   3302.116592  \n",
       "std         34.977175   7877.085668  \n",
       "min          1.000000 -10760.000000  \n",
       "25%          8.000000      0.000000  \n",
       "50%         23.000000   1400.000000  \n",
       "75%         52.500000   5425.000000  \n",
       "max        178.000000  83000.000000  "
      ]
     },
     "metadata": {},
     "output_type": "display_data"
    }
   ],
   "source": [
    "# Display a description of the dataset\n",
    "display(data.describe())"
   ]
  },
  {
   "cell_type": "markdown",
   "metadata": {},
   "source": [
    "### Implementation: Feature Relevance\n",
    "\n",
    "We need to consider is if any features are actually relevant.  We can make this determination quite easily by training a supervised regression learner on a subset of the data with one feature removed, and then score how well that model can predict the removed feature."
   ]
  },
  {
   "cell_type": "code",
   "execution_count": 17,
   "metadata": {
    "collapsed": false
   },
   "outputs": [
    {
     "name": "stdout",
     "output_type": "stream",
     "text": [
      "The feature # Bedrooms has a reported prediction score: -0.0732807215333\n",
      "The feature # Baths has a reported prediction score: -0.0178975289683\n",
      "The feature # Rooms has a reported prediction score: -0.0018943380341\n",
      "The feature Fin SF has a reported prediction score: 0.245262820137\n",
      "The feature List Price has a reported prediction score: -0.755191273519\n",
      "The feature Days On Market has a reported prediction score: -0.91701582358\n"
     ]
    }
   ],
   "source": [
    "from sklearn.cross_validation import train_test_split\n",
    "from sklearn.tree import DecisionTreeRegressor\n",
    "\n",
    "for c in features.columns:\n",
    "    new_data = data.drop(c, axis = 1)\n",
    "    y_all = data[c]\n",
    "    X_train, X_test, y_train, y_test = train_test_split(new_data, y_all, test_size=0.25, random_state=42)\n",
    "    score = DecisionTreeRegressor(random_state=0).fit(X_train, y_train).score(X_test, y_test)\n",
    "    print \"The feature {} has a reported prediction score: {}\".format(c, score)"
   ]
  },
  {
   "cell_type": "markdown",
   "metadata": {},
   "source": [
    "#### Observations: \n",
    "\n",
    "The coefficient of determination r^2 is telling you how much of the information contained in the selected feature is already contained in the remaining features. If the coefficient of determination is 1.0 then all the information contained in this feature is already contained in the renaming features (since we can predict the feature perfectly from the remaining ones). If the coefficient of determination is less than or equal to zero then the remaining features do not already contain the information found in the selected feature (i.e. the select feature is telling something new about the sample).  Almost all the features have a negative r^2 score.  The only feature with a positive r^2 was Fin Sf, but the r^2 was still very low.  It appears every feature is relative.   "
   ]
  },
  {
   "cell_type": "markdown",
   "metadata": {},
   "source": [
    "### Visualize Feature Distributions\n",
    "To get a better understanding of the dataset, we can construct a scatter matrix of each features present in the data. If you found that the feature you attempted to predict above is relevant for identifying a specific customer, then the scatter matrix below may not show any correlation between that feature and the others. Conversely, if you believe that feature is not relevant for identifying a specific customer, the scatter matrix might show a correlation between that feature and another feature in the data."
   ]
  },
  {
   "cell_type": "code",
   "execution_count": 9,
   "metadata": {
    "collapsed": false
   },
   "outputs": [
    {
     "data": {
      "image/png": "[encoded data removed]",
      "text/plain": [
       "<matplotlib.figure.Figure at 0x3e7c860>"
      ]
     },
     "metadata": {},
     "output_type": "display_data"
    }
   ],
   "source": [
    "# Produce a scatter matrix for each pair of features in the data\n",
    "pd.scatter_matrix(features, alpha = 0.3, figsize = (14,8), diagonal = 'kde');"
   ]
  },
  {
   "cell_type": "code",
   "execution_count": 11,
   "metadata": {
    "collapsed": false,
    "scrolled": true
   },
   "outputs": [
    {
     "data": {
      "image/png": "[encoded data removed]",
      "text/plain": [
       "<matplotlib.figure.Figure at 0xf27d7f0>"
      ]
     },
     "metadata": {},
     "output_type": "display_data"
    },
    {
     "name": "stdout",
     "output_type": "stream",
     "text": [
      "# Bedrooms does not follow a normal distribution\n"
     ]
    },
    {
     "data": {
      "image/png": "[encoded data removed]",
      "text/plain": [
       "<matplotlib.figure.Figure at 0xf6377f0>"
      ]
     },
     "metadata": {},
     "output_type": "display_data"
    },
    {
     "name": "stdout",
     "output_type": "stream",
     "text": [
      "# Baths does not follow a normal distribution\n"
     ]
    },
    {
     "data": {
      "image/png": "[encoded data removed]",
      "text/plain": [
       "<matplotlib.figure.Figure at 0xf710710>"
      ]
     },
     "metadata": {},
     "output_type": "display_data"
    },
    {
     "name": "stdout",
     "output_type": "stream",
     "text": [
      "# Rooms does not follow a normal distribution\n"
     ]
    },
    {
     "data": {
      "image/png": "[encoded data removed]",
      "text/plain": [
       "<matplotlib.figure.Figure at 0xfa1c6d8>"
      ]
     },
     "metadata": {},
     "output_type": "display_data"
    },
    {
     "name": "stdout",
     "output_type": "stream",
     "text": [
      "Fin SF does not follow a normal distribution\n"
     ]
    },
    {
     "data": {
      "image/png": "[encoded data removed]",
      "text/plain": [
       "<matplotlib.figure.Figure at 0xfd1c550>"
      ]
     },
     "metadata": {},
     "output_type": "display_data"
    },
    {
     "name": "stdout",
     "output_type": "stream",
     "text": [
      "List Price does follow a normal distribution\n"
     ]
    },
    {
     "data": {
      "image/png": "[encoded data removed]",
      "text/plain": [
       "<matplotlib.figure.Figure at 0xfa13240>"
      ]
     },
     "metadata": {},
     "output_type": "display_data"
    },
    {
     "name": "stdout",
     "output_type": "stream",
     "text": [
      "Days On Market does not follow a normal distribution\n"
     ]
    }
   ],
   "source": [
    "import scipy.stats as stats\n",
    "\n",
    "for c in features.columns:\n",
    "    x = data[c]\n",
    "    x.plot(kind='hist', alpha=0.5, figsize = (6,2), title=c)\n",
    "    plt.show()\n",
    "    z,pvalue = stats.normaltest(x)\n",
    "    isnormal = 'does' if pvalue > 0.055 else \"does not\"\n",
    "    print \"{} {} follow a normal distribution\".format(c, isnormal)"
   ]
  },
  {
   "cell_type": "markdown",
   "metadata": {},
   "source": [
    "#### Observations: \n",
    "\n",
    "It appears none of the features except for List Price follows a normal distribution.  This means we will need to implement feature scaling.  "
   ]
  },
  {
   "cell_type": "code",
   "execution_count": 10,
   "metadata": {
    "collapsed": false
   },
   "outputs": [
    {
     "name": "stderr",
     "output_type": "stream",
     "text": [
      "C:\\Users\\jlee\\AppData\\Local\\Continuum\\Anaconda2\\lib\\site-packages\\seaborn\\linearmodels.py:1285: UserWarning: The `corrplot` function has been deprecated in favor of `heatmap` and will be removed in a forthcoming release. Please update your code.\n",
      "  warnings.warn((\"The `corrplot` function has been deprecated in favor \"\n",
      "C:\\Users\\jlee\\AppData\\Local\\Continuum\\Anaconda2\\lib\\site-packages\\seaborn\\linearmodels.py:1351: UserWarning: The `symmatplot` function has been deprecated in favor of `heatmap` and will be removed in a forthcoming release. Please update your code.\n",
      "  warnings.warn((\"The `symmatplot` function has been deprecated in favor \"\n"
     ]
    },
    {
     "name": "stdout",
     "output_type": "stream",
     "text": [
      "                # Bedrooms   # Baths   # Rooms    Fin SF  List Price  \\\n",
      "# Bedrooms        1.000000  0.320225  0.556835  0.639936    0.379777   \n",
      "# Baths           0.320225  1.000000  0.263700  0.350673    0.253025   \n",
      "# Rooms           0.556835  0.263700  1.000000  0.708415    0.477294   \n",
      "Fin SF            0.639936  0.350673  0.708415  1.000000    0.570876   \n",
      "List Price        0.379777  0.253025  0.477294  0.570876    1.000000   \n",
      "Days On Market    0.055766 -0.013603  0.175445  0.024580    0.046355   \n",
      "Target            0.110384  0.032654  0.143204  0.171204    0.249082   \n",
      "\n",
      "                Days On Market    Target  \n",
      "# Bedrooms            0.055766  0.110384  \n",
      "# Baths              -0.013603  0.032654  \n",
      "# Rooms               0.175445  0.143204  \n",
      "Fin SF                0.024580  0.171204  \n",
      "List Price            0.046355  0.249082  \n",
      "Days On Market        1.000000  0.212107  \n",
      "Target                0.212107  1.000000  \n"
     ]
    },
    {
     "data": {
      "image/png": "[encoded data removed]",
      "text/plain": [
       "<matplotlib.figure.Figure at 0xefad940>"
      ]
     },
     "metadata": {},
     "output_type": "display_data"
    }
   ],
   "source": [
    "print data.corr(method='pearson')\n",
    "import seaborn as sns\n",
    "_ = sns.corrplot(features)"
   ]
  },
  {
   "cell_type": "markdown",
   "metadata": {},
   "source": [
    "#### Observations: \n",
    "    \n",
    "All the features are positively correlated with one other except for # bathrooms and Days on Markets.  It seems having more bathrooms helper a house seller quicker.  The correlations make sense.  An increase in rooms will increase the size (Fin SF) of the home.  Bigger homes generally take longer to sell.  # Room should be at least # Bedrooms + # Bathrooms.  Therefore positive correlation between #Bedrooms,# Bathrooms, and # Rooms is expected.    "
   ]
  },
  {
   "cell_type": "markdown",
   "metadata": {},
   "source": [
    "### Implementation: Training and Testing Data Split\n",
    "So far, we have converted all _categorical_ features into numeric values. For the next step, we split the data (both features and corresponding labels) into training and test sets. In the following code cell below, you will need to implement the following:"
   ]
  },
  {
   "cell_type": "code",
   "execution_count": 18,
   "metadata": {
    "collapsed": true
   },
   "outputs": [],
   "source": [
    "from sklearn.cross_validation import train_test_split\n",
    "\n",
    "X_train, X_test, y_train, y_test = train_test_split(features, target, test_size=0.25, random_state=0)"
   ]
  },
  {
   "cell_type": "code",
   "execution_count": null,
   "metadata": {
    "collapsed": true
   },
   "outputs": [],
   "source": []
  }
 ],
 "metadata": {
  "kernelspec": {
   "display_name": "Python 2",
   "language": "python",
   "name": "python2"
  }
 },
 "nbformat": 4,
 "nbformat_minor": 0
}
