{
 "cells": [
  {
   "cell_type": "markdown",
   "metadata": {},
   "source": [
    "# Machine Learning Engineer Nanodegree\n",
    "## Capstone Project\n",
    "## Project 5: Negotiating Buying a Home  "
   ]
  },
  {
   "cell_type": "markdown",
   "metadata": {},
   "source": [
    "My project is to utilize machine learning to predict how much to negotiate on a house you’re considering purchasing.  The idea came to me when a friend of mine asked me to help her come up with a price for a house she wanted to bid on.  Many sites such as Zillow already provide an estimate of a house’s worth based on their own proprietary formula.  However, these estimates can be substantially different than the price the seller wants to ask for.   "
   ]
  },
  {
   "cell_type": "markdown",
   "metadata": {},
   "source": [
    "## Getting Started\n",
    "\n",
    "The data set was compiled and prepared by my friend’s realtor.  The data contains recent sales of homes within a 5-mile radius of the home she was looking to purchase.  It came directly from the multiple listing service (MLS).  The MLS database allows real estate brokers to share their listings with one another for the purpose of locating ready, willing, and able buyers more efficiently.  This database is only accessible by professional real estate agents.  I’m considering turning this project into an app in the future.    \n",
    "\n",
    "<b>Features</b>\n",
    "- #Bedrooms – number of bedrooms in the home \n",
    "- #Baths – number of bathrooms in the home\n",
    "- #Rooms – total number of rooms in the home\n",
    "- #Fin SF – total size of the house in square feet\n",
    "- List Price – the price the seller wants to sell the home for \n",
    "- Sales Price – the price the home actually sells for \n",
    "- Days On Markets – number of days the home has listed for sale on the market before being sold "
   ]
  },
  {
   "cell_type": "code",
   "execution_count": 1,
   "metadata": {
    "collapsed": false
   },
   "outputs": [
    {
     "name": "stdout",
     "output_type": "stream",
     "text": [
      "Dataset has 237 samples with 7 features each.\n"
     ]
    }
   ],
   "source": [
    "# Import libraries necessary for this project\n",
    "import numpy as np\n",
    "import pandas as pd\n",
    "import renders as rs\n",
    "from IPython.display import display # Allows the use of display() for DataFrames\n",
    "import matplotlib.pyplot as plt\n",
    "%matplotlib inline\n",
    "\n",
    "try:\n",
    "    data = pd.read_csv(\"data.csv\")\n",
    "    data = data.drop(['PID', 'Status', 'Address', 'Subdivision'], axis = 1)\n",
    "    print \"Dataset has {} samples with {} features each.\".format(*data.shape)\n",
    "except:\n",
    "    print \"Dataset could not be loaded. Is the dataset missing?\""
   ]
  },
  {
   "cell_type": "markdown",
   "metadata": {},
   "source": [
    "## Data Preprocessing\n",
    "In this section, we will preprocess the data by cleaning data and removing outliers. Preprocessing data is often times a critical step in assuring that results you obtain from your analysis are significant and meaningful.  We might need to scale the data if the data is not normally distributed.  Finally, we will need to determine which feature and target columns.  "
   ]
  },
  {
   "cell_type": "code",
   "execution_count": 2,
   "metadata": {
    "collapsed": false
   },
   "outputs": [
    {
     "data": {
      "text/html": [
       "<div>\n",
       "<table border=\"1\" class=\"dataframe\">\n",
       "  <thead>\n",
       "    <tr style=\"text-align: right;\">\n",
       "      <th></th>\n",
       "      <th># Bedrooms</th>\n",
       "      <th># Baths</th>\n",
       "      <th># Rooms</th>\n",
       "      <th>Fin SF</th>\n",
       "      <th>List Price</th>\n",
       "      <th>Sales Price</th>\n",
       "      <th>Days On Market</th>\n",
       "    </tr>\n",
       "  </thead>\n",
       "  <tbody>\n",
       "    <tr>\n",
       "      <th>count</th>\n",
       "      <td>237.000000</td>\n",
       "      <td>237.000000</td>\n",
       "      <td>237.000000</td>\n",
       "      <td>237.000000</td>\n",
       "      <td>237.000000</td>\n",
       "      <td>237.000000</td>\n",
       "      <td>237.000000</td>\n",
       "    </tr>\n",
       "    <tr>\n",
       "      <th>mean</th>\n",
       "      <td>3.379747</td>\n",
       "      <td>2.028692</td>\n",
       "      <td>7.143460</td>\n",
       "      <td>1728.198312</td>\n",
       "      <td>209015.852321</td>\n",
       "      <td>205513.438819</td>\n",
       "      <td>40.172996</td>\n",
       "    </tr>\n",
       "    <tr>\n",
       "      <th>std</th>\n",
       "      <td>0.543929</td>\n",
       "      <td>0.354779</td>\n",
       "      <td>1.335821</td>\n",
       "      <td>362.655260</td>\n",
       "      <td>44913.470624</td>\n",
       "      <td>43375.273253</td>\n",
       "      <td>45.701496</td>\n",
       "    </tr>\n",
       "    <tr>\n",
       "      <th>min</th>\n",
       "      <td>3.000000</td>\n",
       "      <td>1.000000</td>\n",
       "      <td>5.000000</td>\n",
       "      <td>0.000000</td>\n",
       "      <td>107900.000000</td>\n",
       "      <td>102000.000000</td>\n",
       "      <td>1.000000</td>\n",
       "    </tr>\n",
       "    <tr>\n",
       "      <th>25%</th>\n",
       "      <td>3.000000</td>\n",
       "      <td>2.000000</td>\n",
       "      <td>6.000000</td>\n",
       "      <td>1518.000000</td>\n",
       "      <td>174900.000000</td>\n",
       "      <td>174000.000000</td>\n",
       "      <td>8.000000</td>\n",
       "    </tr>\n",
       "    <tr>\n",
       "      <th>50%</th>\n",
       "      <td>3.000000</td>\n",
       "      <td>2.100000</td>\n",
       "      <td>7.000000</td>\n",
       "      <td>1660.000000</td>\n",
       "      <td>209950.000000</td>\n",
       "      <td>205000.000000</td>\n",
       "      <td>24.000000</td>\n",
       "    </tr>\n",
       "    <tr>\n",
       "      <th>75%</th>\n",
       "      <td>4.000000</td>\n",
       "      <td>2.100000</td>\n",
       "      <td>8.000000</td>\n",
       "      <td>1896.000000</td>\n",
       "      <td>238950.000000</td>\n",
       "      <td>235000.000000</td>\n",
       "      <td>56.000000</td>\n",
       "    </tr>\n",
       "    <tr>\n",
       "      <th>max</th>\n",
       "      <td>5.000000</td>\n",
       "      <td>3.000000</td>\n",
       "      <td>12.000000</td>\n",
       "      <td>3135.000000</td>\n",
       "      <td>375950.000000</td>\n",
       "      <td>355000.000000</td>\n",
       "      <td>384.000000</td>\n",
       "    </tr>\n",
       "  </tbody>\n",
       "</table>\n",
       "</div>"
      ],
      "text/plain": [
       "       # Bedrooms     # Baths     # Rooms       Fin SF     List Price  \\\n",
       "count  237.000000  237.000000  237.000000   237.000000     237.000000   \n",
       "mean     3.379747    2.028692    7.143460  1728.198312  209015.852321   \n",
       "std      0.543929    0.354779    1.335821   362.655260   44913.470624   \n",
       "min      3.000000    1.000000    5.000000     0.000000  107900.000000   \n",
       "25%      3.000000    2.000000    6.000000  1518.000000  174900.000000   \n",
       "50%      3.000000    2.100000    7.000000  1660.000000  209950.000000   \n",
       "75%      4.000000    2.100000    8.000000  1896.000000  238950.000000   \n",
       "max      5.000000    3.000000   12.000000  3135.000000  375950.000000   \n",
       "\n",
       "         Sales Price  Days On Market  \n",
       "count     237.000000      237.000000  \n",
       "mean   205513.438819       40.172996  \n",
       "std     43375.273253       45.701496  \n",
       "min    102000.000000        1.000000  \n",
       "25%    174000.000000        8.000000  \n",
       "50%    205000.000000       24.000000  \n",
       "75%    235000.000000       56.000000  \n",
       "max    355000.000000      384.000000  "
      ]
     },
     "metadata": {},
     "output_type": "display_data"
    }
   ],
   "source": [
    "display(data.describe())"
   ]
  },
  {
   "cell_type": "markdown",
   "metadata": {},
   "source": [
    "### Implementation: Data Cleaning\n",
    "\n",
    "We need to clean the data before we can do any analysis.  The minimum value for Fin SF is 0.  This is already a problem since a home cannot have Fin SF of zero for its size.  All the values in each column must be greater than zero.  Therefore, any row that contains values less than 1 will be removed.  Rows with null values will be removed as well.  Finally, we make sure that # Rooms is at least equal to the sum of # of Bedrooms and # Baths.  Four bad data points have been removed from the data set because they were either null, less than 1, or are inconsistent.    "
   ]
  },
  {
   "cell_type": "code",
   "execution_count": 3,
   "metadata": {
    "collapsed": false
   },
   "outputs": [
    {
     "data": {
      "text/html": [
       "<div>\n",
       "<table border=\"1\" class=\"dataframe\">\n",
       "  <thead>\n",
       "    <tr style=\"text-align: right;\">\n",
       "      <th></th>\n",
       "      <th># Bedrooms</th>\n",
       "      <th># Baths</th>\n",
       "      <th># Rooms</th>\n",
       "      <th>Fin SF</th>\n",
       "      <th>List Price</th>\n",
       "      <th>Sales Price</th>\n",
       "      <th>Days On Market</th>\n",
       "    </tr>\n",
       "  </thead>\n",
       "  <tbody>\n",
       "    <tr>\n",
       "      <th>count</th>\n",
       "      <td>234.000000</td>\n",
       "      <td>234.000000</td>\n",
       "      <td>234.000000</td>\n",
       "      <td>234.000000</td>\n",
       "      <td>234.000000</td>\n",
       "      <td>234.000000</td>\n",
       "      <td>234.000000</td>\n",
       "    </tr>\n",
       "    <tr>\n",
       "      <th>mean</th>\n",
       "      <td>3.376068</td>\n",
       "      <td>2.023932</td>\n",
       "      <td>7.158120</td>\n",
       "      <td>1735.910256</td>\n",
       "      <td>209309.217949</td>\n",
       "      <td>205768.098291</td>\n",
       "      <td>40.213675</td>\n",
       "    </tr>\n",
       "    <tr>\n",
       "      <th>std</th>\n",
       "      <td>0.543814</td>\n",
       "      <td>0.351245</td>\n",
       "      <td>1.338036</td>\n",
       "      <td>346.664927</td>\n",
       "      <td>44735.681218</td>\n",
       "      <td>43217.123404</td>\n",
       "      <td>45.927696</td>\n",
       "    </tr>\n",
       "    <tr>\n",
       "      <th>min</th>\n",
       "      <td>3.000000</td>\n",
       "      <td>1.000000</td>\n",
       "      <td>5.000000</td>\n",
       "      <td>1016.000000</td>\n",
       "      <td>107900.000000</td>\n",
       "      <td>102000.000000</td>\n",
       "      <td>1.000000</td>\n",
       "    </tr>\n",
       "    <tr>\n",
       "      <th>25%</th>\n",
       "      <td>3.000000</td>\n",
       "      <td>2.000000</td>\n",
       "      <td>6.000000</td>\n",
       "      <td>1518.500000</td>\n",
       "      <td>174950.000000</td>\n",
       "      <td>174950.000000</td>\n",
       "      <td>8.250000</td>\n",
       "    </tr>\n",
       "    <tr>\n",
       "      <th>50%</th>\n",
       "      <td>3.000000</td>\n",
       "      <td>2.100000</td>\n",
       "      <td>7.000000</td>\n",
       "      <td>1662.000000</td>\n",
       "      <td>209950.000000</td>\n",
       "      <td>205000.000000</td>\n",
       "      <td>23.500000</td>\n",
       "    </tr>\n",
       "    <tr>\n",
       "      <th>75%</th>\n",
       "      <td>4.000000</td>\n",
       "      <td>2.100000</td>\n",
       "      <td>8.000000</td>\n",
       "      <td>1899.000000</td>\n",
       "      <td>238587.500000</td>\n",
       "      <td>235000.000000</td>\n",
       "      <td>56.000000</td>\n",
       "    </tr>\n",
       "    <tr>\n",
       "      <th>max</th>\n",
       "      <td>5.000000</td>\n",
       "      <td>3.000000</td>\n",
       "      <td>12.000000</td>\n",
       "      <td>3135.000000</td>\n",
       "      <td>375950.000000</td>\n",
       "      <td>355000.000000</td>\n",
       "      <td>384.000000</td>\n",
       "    </tr>\n",
       "  </tbody>\n",
       "</table>\n",
       "</div>"
      ],
      "text/plain": [
       "       # Bedrooms     # Baths     # Rooms       Fin SF     List Price  \\\n",
       "count  234.000000  234.000000  234.000000   234.000000     234.000000   \n",
       "mean     3.376068    2.023932    7.158120  1735.910256  209309.217949   \n",
       "std      0.543814    0.351245    1.338036   346.664927   44735.681218   \n",
       "min      3.000000    1.000000    5.000000  1016.000000  107900.000000   \n",
       "25%      3.000000    2.000000    6.000000  1518.500000  174950.000000   \n",
       "50%      3.000000    2.100000    7.000000  1662.000000  209950.000000   \n",
       "75%      4.000000    2.100000    8.000000  1899.000000  238587.500000   \n",
       "max      5.000000    3.000000   12.000000  3135.000000  375950.000000   \n",
       "\n",
       "         Sales Price  Days On Market  \n",
       "count     234.000000      234.000000  \n",
       "mean   205768.098291       40.213675  \n",
       "std     43217.123404       45.927696  \n",
       "min    102000.000000        1.000000  \n",
       "25%    174950.000000        8.250000  \n",
       "50%    205000.000000       23.500000  \n",
       "75%    235000.000000       56.000000  \n",
       "max    355000.000000      384.000000  "
      ]
     },
     "metadata": {},
     "output_type": "display_data"
    }
   ],
   "source": [
    "zero_or_negative = []\n",
    "for i, r in data.iterrows():\n",
    "    for c in data.columns:\n",
    "        if r[c] <= 0:\n",
    "            zero_or_negative.append(i)  \n",
    "\n",
    "data = data.dropna().drop(data.index[zero_or_negative].unique())\n",
    "data = data[data['# Rooms'] - data['# Bedrooms'] - data['# Baths'] >= 0]\n",
    "data = data.reset_index(drop = True)\n",
    "display(data.describe())"
   ]
  },
  {
   "cell_type": "markdown",
   "metadata": {},
   "source": [
    "#### Observations: \n",
    "\n",
    "4 bad data points have been removed from the data set, because they were either null, less than 1, or are inconsistent.    "
   ]
  },
  {
   "cell_type": "markdown",
   "metadata": {},
   "source": [
    "### Implementation: Outlier Removal\n",
    "Detecting outliers in the data is extremely important in the data preprocessing step of any analysis. The presence of outliers can often skew results which take into consideration these data points. There are many \"rules of thumb\" for what constitutes an outlier in a dataset. Here, we will use [Tukey's Method for identifying outliers] (http://datapigtechnologies.com/blog/index.php/highlighting-outliers-in-your-data-with-the-tukey-method/): An *outlier step* is calculated as 1.5 times the interquartile range (IQR). A data point with a feature that is beyond an outlier step outside of the IQR for that feature is considered abnormal.  The data points that had more than one outlier per feature were removed. Those data points are more likely to be irregularities since there were outliers found in multiple features. They should be removed because regression models are sensitive to outliers."
   ]
  },
  {
   "cell_type": "code",
   "execution_count": 4,
   "metadata": {
    "collapsed": false
   },
   "outputs": [
    {
     "name": "stdout",
     "output_type": "stream",
     "text": [
      "Data points considered outliers for the feature '# Bedrooms':\n"
     ]
    },
    {
     "data": {
      "text/html": [
       "<div>\n",
       "<table border=\"1\" class=\"dataframe\">\n",
       "  <thead>\n",
       "    <tr style=\"text-align: right;\">\n",
       "      <th></th>\n",
       "      <th># Bedrooms</th>\n",
       "      <th># Baths</th>\n",
       "      <th># Rooms</th>\n",
       "      <th>Fin SF</th>\n",
       "      <th>List Price</th>\n",
       "      <th>Sales Price</th>\n",
       "      <th>Days On Market</th>\n",
       "    </tr>\n",
       "  </thead>\n",
       "  <tbody>\n",
       "  </tbody>\n",
       "</table>\n",
       "</div>"
      ],
      "text/plain": [
       "Empty DataFrame\n",
       "Columns: [# Bedrooms, # Baths, # Rooms, Fin SF, List Price, Sales Price, Days On Market]\n",
       "Index: []"
      ]
     },
     "metadata": {},
     "output_type": "display_data"
    },
    {
     "name": "stdout",
     "output_type": "stream",
     "text": [
      "Data points considered outliers for the feature '# Baths':\n"
     ]
    },
    {
     "data": {
      "text/html": [
       "<div>\n",
       "<table border=\"1\" class=\"dataframe\">\n",
       "  <thead>\n",
       "    <tr style=\"text-align: right;\">\n",
       "      <th></th>\n",
       "      <th># Bedrooms</th>\n",
       "      <th># Baths</th>\n",
       "      <th># Rooms</th>\n",
       "      <th>Fin SF</th>\n",
       "      <th>List Price</th>\n",
       "      <th>Sales Price</th>\n",
       "      <th>Days On Market</th>\n",
       "    </tr>\n",
       "  </thead>\n",
       "  <tbody>\n",
       "    <tr>\n",
       "      <th>2</th>\n",
       "      <td>3</td>\n",
       "      <td>1.1</td>\n",
       "      <td>7</td>\n",
       "      <td>1520</td>\n",
       "      <td>107900</td>\n",
       "      <td>110000</td>\n",
       "      <td>12</td>\n",
       "    </tr>\n",
       "    <tr>\n",
       "      <th>3</th>\n",
       "      <td>3</td>\n",
       "      <td>1.0</td>\n",
       "      <td>5</td>\n",
       "      <td>1188</td>\n",
       "      <td>109270</td>\n",
       "      <td>109270</td>\n",
       "      <td>8</td>\n",
       "    </tr>\n",
       "    <tr>\n",
       "      <th>4</th>\n",
       "      <td>3</td>\n",
       "      <td>1.1</td>\n",
       "      <td>6</td>\n",
       "      <td>1422</td>\n",
       "      <td>124000</td>\n",
       "      <td>102000</td>\n",
       "      <td>69</td>\n",
       "    </tr>\n",
       "    <tr>\n",
       "      <th>5</th>\n",
       "      <td>3</td>\n",
       "      <td>1.1</td>\n",
       "      <td>5</td>\n",
       "      <td>1362</td>\n",
       "      <td>129950</td>\n",
       "      <td>131500</td>\n",
       "      <td>6</td>\n",
       "    </tr>\n",
       "    <tr>\n",
       "      <th>11</th>\n",
       "      <td>3</td>\n",
       "      <td>1.1</td>\n",
       "      <td>6</td>\n",
       "      <td>1362</td>\n",
       "      <td>135000</td>\n",
       "      <td>132500</td>\n",
       "      <td>5</td>\n",
       "    </tr>\n",
       "    <tr>\n",
       "      <th>15</th>\n",
       "      <td>3</td>\n",
       "      <td>1.1</td>\n",
       "      <td>6</td>\n",
       "      <td>1416</td>\n",
       "      <td>149900</td>\n",
       "      <td>143000</td>\n",
       "      <td>111</td>\n",
       "    </tr>\n",
       "    <tr>\n",
       "      <th>23</th>\n",
       "      <td>3</td>\n",
       "      <td>1.1</td>\n",
       "      <td>6</td>\n",
       "      <td>1520</td>\n",
       "      <td>151950</td>\n",
       "      <td>152000</td>\n",
       "      <td>3</td>\n",
       "    </tr>\n",
       "    <tr>\n",
       "      <th>29</th>\n",
       "      <td>3</td>\n",
       "      <td>3.0</td>\n",
       "      <td>7</td>\n",
       "      <td>1600</td>\n",
       "      <td>159950</td>\n",
       "      <td>168000</td>\n",
       "      <td>112</td>\n",
       "    </tr>\n",
       "    <tr>\n",
       "      <th>43</th>\n",
       "      <td>3</td>\n",
       "      <td>1.1</td>\n",
       "      <td>5</td>\n",
       "      <td>1362</td>\n",
       "      <td>167900</td>\n",
       "      <td>160500</td>\n",
       "      <td>101</td>\n",
       "    </tr>\n",
       "    <tr>\n",
       "      <th>45</th>\n",
       "      <td>3</td>\n",
       "      <td>1.1</td>\n",
       "      <td>6</td>\n",
       "      <td>1362</td>\n",
       "      <td>169500</td>\n",
       "      <td>165000</td>\n",
       "      <td>37</td>\n",
       "    </tr>\n",
       "    <tr>\n",
       "      <th>54</th>\n",
       "      <td>3</td>\n",
       "      <td>1.1</td>\n",
       "      <td>7</td>\n",
       "      <td>1560</td>\n",
       "      <td>169950</td>\n",
       "      <td>169000</td>\n",
       "      <td>22</td>\n",
       "    </tr>\n",
       "    <tr>\n",
       "      <th>63</th>\n",
       "      <td>3</td>\n",
       "      <td>1.1</td>\n",
       "      <td>10</td>\n",
       "      <td>1520</td>\n",
       "      <td>176950</td>\n",
       "      <td>181950</td>\n",
       "      <td>2</td>\n",
       "    </tr>\n",
       "    <tr>\n",
       "      <th>78</th>\n",
       "      <td>3</td>\n",
       "      <td>1.1</td>\n",
       "      <td>5</td>\n",
       "      <td>1362</td>\n",
       "      <td>184950</td>\n",
       "      <td>180000</td>\n",
       "      <td>17</td>\n",
       "    </tr>\n",
       "    <tr>\n",
       "      <th>84</th>\n",
       "      <td>4</td>\n",
       "      <td>3.0</td>\n",
       "      <td>7</td>\n",
       "      <td>2022</td>\n",
       "      <td>189950</td>\n",
       "      <td>180000</td>\n",
       "      <td>23</td>\n",
       "    </tr>\n",
       "    <tr>\n",
       "      <th>87</th>\n",
       "      <td>3</td>\n",
       "      <td>1.0</td>\n",
       "      <td>5</td>\n",
       "      <td>1188</td>\n",
       "      <td>189950</td>\n",
       "      <td>187500</td>\n",
       "      <td>37</td>\n",
       "    </tr>\n",
       "    <tr>\n",
       "      <th>92</th>\n",
       "      <td>3</td>\n",
       "      <td>1.1</td>\n",
       "      <td>6</td>\n",
       "      <td>1422</td>\n",
       "      <td>198000</td>\n",
       "      <td>192000</td>\n",
       "      <td>4</td>\n",
       "    </tr>\n",
       "    <tr>\n",
       "      <th>95</th>\n",
       "      <td>3</td>\n",
       "      <td>1.1</td>\n",
       "      <td>7</td>\n",
       "      <td>1552</td>\n",
       "      <td>199500</td>\n",
       "      <td>193500</td>\n",
       "      <td>100</td>\n",
       "    </tr>\n",
       "    <tr>\n",
       "      <th>97</th>\n",
       "      <td>5</td>\n",
       "      <td>3.0</td>\n",
       "      <td>8</td>\n",
       "      <td>1896</td>\n",
       "      <td>199900</td>\n",
       "      <td>205000</td>\n",
       "      <td>3</td>\n",
       "    </tr>\n",
       "    <tr>\n",
       "      <th>103</th>\n",
       "      <td>3</td>\n",
       "      <td>1.1</td>\n",
       "      <td>5</td>\n",
       "      <td>1416</td>\n",
       "      <td>199950</td>\n",
       "      <td>199000</td>\n",
       "      <td>24</td>\n",
       "    </tr>\n",
       "    <tr>\n",
       "      <th>105</th>\n",
       "      <td>3</td>\n",
       "      <td>3.0</td>\n",
       "      <td>7</td>\n",
       "      <td>1600</td>\n",
       "      <td>199950</td>\n",
       "      <td>192500</td>\n",
       "      <td>100</td>\n",
       "    </tr>\n",
       "    <tr>\n",
       "      <th>113</th>\n",
       "      <td>3</td>\n",
       "      <td>1.1</td>\n",
       "      <td>7</td>\n",
       "      <td>1576</td>\n",
       "      <td>204990</td>\n",
       "      <td>205000</td>\n",
       "      <td>33</td>\n",
       "    </tr>\n",
       "    <tr>\n",
       "      <th>114</th>\n",
       "      <td>4</td>\n",
       "      <td>3.0</td>\n",
       "      <td>7</td>\n",
       "      <td>1760</td>\n",
       "      <td>205000</td>\n",
       "      <td>205000</td>\n",
       "      <td>8</td>\n",
       "    </tr>\n",
       "    <tr>\n",
       "      <th>120</th>\n",
       "      <td>3</td>\n",
       "      <td>1.1</td>\n",
       "      <td>6</td>\n",
       "      <td>1564</td>\n",
       "      <td>209950</td>\n",
       "      <td>209000</td>\n",
       "      <td>22</td>\n",
       "    </tr>\n",
       "    <tr>\n",
       "      <th>128</th>\n",
       "      <td>3</td>\n",
       "      <td>1.1</td>\n",
       "      <td>7</td>\n",
       "      <td>1560</td>\n",
       "      <td>214500</td>\n",
       "      <td>226600</td>\n",
       "      <td>73</td>\n",
       "    </tr>\n",
       "    <tr>\n",
       "      <th>146</th>\n",
       "      <td>3</td>\n",
       "      <td>1.1</td>\n",
       "      <td>6</td>\n",
       "      <td>1560</td>\n",
       "      <td>224427</td>\n",
       "      <td>220000</td>\n",
       "      <td>103</td>\n",
       "    </tr>\n",
       "    <tr>\n",
       "      <th>161</th>\n",
       "      <td>3</td>\n",
       "      <td>1.1</td>\n",
       "      <td>10</td>\n",
       "      <td>1520</td>\n",
       "      <td>229950</td>\n",
       "      <td>229950</td>\n",
       "      <td>40</td>\n",
       "    </tr>\n",
       "    <tr>\n",
       "      <th>163</th>\n",
       "      <td>5</td>\n",
       "      <td>3.0</td>\n",
       "      <td>10</td>\n",
       "      <td>2492</td>\n",
       "      <td>232500</td>\n",
       "      <td>230000</td>\n",
       "      <td>171</td>\n",
       "    </tr>\n",
       "    <tr>\n",
       "      <th>181</th>\n",
       "      <td>4</td>\n",
       "      <td>3.0</td>\n",
       "      <td>7</td>\n",
       "      <td>2000</td>\n",
       "      <td>239950</td>\n",
       "      <td>239950</td>\n",
       "      <td>16</td>\n",
       "    </tr>\n",
       "    <tr>\n",
       "      <th>201</th>\n",
       "      <td>5</td>\n",
       "      <td>3.0</td>\n",
       "      <td>11</td>\n",
       "      <td>2409</td>\n",
       "      <td>249950</td>\n",
       "      <td>240000</td>\n",
       "      <td>10</td>\n",
       "    </tr>\n",
       "    <tr>\n",
       "      <th>211</th>\n",
       "      <td>5</td>\n",
       "      <td>3.0</td>\n",
       "      <td>11</td>\n",
       "      <td>2409</td>\n",
       "      <td>264900</td>\n",
       "      <td>263400</td>\n",
       "      <td>19</td>\n",
       "    </tr>\n",
       "    <tr>\n",
       "      <th>213</th>\n",
       "      <td>5</td>\n",
       "      <td>3.0</td>\n",
       "      <td>8</td>\n",
       "      <td>3014</td>\n",
       "      <td>269950</td>\n",
       "      <td>271950</td>\n",
       "      <td>5</td>\n",
       "    </tr>\n",
       "  </tbody>\n",
       "</table>\n",
       "</div>"
      ],
      "text/plain": [
       "     # Bedrooms  # Baths  # Rooms  Fin SF  List Price  Sales Price  \\\n",
       "2             3      1.1        7    1520      107900       110000   \n",
       "3             3      1.0        5    1188      109270       109270   \n",
       "4             3      1.1        6    1422      124000       102000   \n",
       "5             3      1.1        5    1362      129950       131500   \n",
       "11            3      1.1        6    1362      135000       132500   \n",
       "15            3      1.1        6    1416      149900       143000   \n",
       "23            3      1.1        6    1520      151950       152000   \n",
       "29            3      3.0        7    1600      159950       168000   \n",
       "43            3      1.1        5    1362      167900       160500   \n",
       "45            3      1.1        6    1362      169500       165000   \n",
       "54            3      1.1        7    1560      169950       169000   \n",
       "63            3      1.1       10    1520      176950       181950   \n",
       "78            3      1.1        5    1362      184950       180000   \n",
       "84            4      3.0        7    2022      189950       180000   \n",
       "87            3      1.0        5    1188      189950       187500   \n",
       "92            3      1.1        6    1422      198000       192000   \n",
       "95            3      1.1        7    1552      199500       193500   \n",
       "97            5      3.0        8    1896      199900       205000   \n",
       "103           3      1.1        5    1416      199950       199000   \n",
       "105           3      3.0        7    1600      199950       192500   \n",
       "113           3      1.1        7    1576      204990       205000   \n",
       "114           4      3.0        7    1760      205000       205000   \n",
       "120           3      1.1        6    1564      209950       209000   \n",
       "128           3      1.1        7    1560      214500       226600   \n",
       "146           3      1.1        6    1560      224427       220000   \n",
       "161           3      1.1       10    1520      229950       229950   \n",
       "163           5      3.0       10    2492      232500       230000   \n",
       "181           4      3.0        7    2000      239950       239950   \n",
       "201           5      3.0       11    2409      249950       240000   \n",
       "211           5      3.0       11    2409      264900       263400   \n",
       "213           5      3.0        8    3014      269950       271950   \n",
       "\n",
       "     Days On Market  \n",
       "2                12  \n",
       "3                 8  \n",
       "4                69  \n",
       "5                 6  \n",
       "11                5  \n",
       "15              111  \n",
       "23                3  \n",
       "29              112  \n",
       "43              101  \n",
       "45               37  \n",
       "54               22  \n",
       "63                2  \n",
       "78               17  \n",
       "84               23  \n",
       "87               37  \n",
       "92                4  \n",
       "95              100  \n",
       "97                3  \n",
       "103              24  \n",
       "105             100  \n",
       "113              33  \n",
       "114               8  \n",
       "120              22  \n",
       "128              73  \n",
       "146             103  \n",
       "161              40  \n",
       "163             171  \n",
       "181              16  \n",
       "201              10  \n",
       "211              19  \n",
       "213               5  "
      ]
     },
     "metadata": {},
     "output_type": "display_data"
    },
    {
     "name": "stdout",
     "output_type": "stream",
     "text": [
      "Data points considered outliers for the feature '# Rooms':\n"
     ]
    },
    {
     "data": {
      "text/html": [
       "<div>\n",
       "<table border=\"1\" class=\"dataframe\">\n",
       "  <thead>\n",
       "    <tr style=\"text-align: right;\">\n",
       "      <th></th>\n",
       "      <th># Bedrooms</th>\n",
       "      <th># Baths</th>\n",
       "      <th># Rooms</th>\n",
       "      <th>Fin SF</th>\n",
       "      <th>List Price</th>\n",
       "      <th>Sales Price</th>\n",
       "      <th>Days On Market</th>\n",
       "    </tr>\n",
       "  </thead>\n",
       "  <tbody>\n",
       "    <tr>\n",
       "      <th>233</th>\n",
       "      <td>5</td>\n",
       "      <td>2.1</td>\n",
       "      <td>12</td>\n",
       "      <td>3135</td>\n",
       "      <td>375950</td>\n",
       "      <td>355000</td>\n",
       "      <td>162</td>\n",
       "    </tr>\n",
       "  </tbody>\n",
       "</table>\n",
       "</div>"
      ],
      "text/plain": [
       "     # Bedrooms  # Baths  # Rooms  Fin SF  List Price  Sales Price  \\\n",
       "233           5      2.1       12    3135      375950       355000   \n",
       "\n",
       "     Days On Market  \n",
       "233             162  "
      ]
     },
     "metadata": {},
     "output_type": "display_data"
    },
    {
     "name": "stdout",
     "output_type": "stream",
     "text": [
      "Data points considered outliers for the feature 'Fin SF':\n"
     ]
    },
    {
     "data": {
      "text/html": [
       "<div>\n",
       "<table border=\"1\" class=\"dataframe\">\n",
       "  <thead>\n",
       "    <tr style=\"text-align: right;\">\n",
       "      <th></th>\n",
       "      <th># Bedrooms</th>\n",
       "      <th># Baths</th>\n",
       "      <th># Rooms</th>\n",
       "      <th>Fin SF</th>\n",
       "      <th>List Price</th>\n",
       "      <th>Sales Price</th>\n",
       "      <th>Days On Market</th>\n",
       "    </tr>\n",
       "  </thead>\n",
       "  <tbody>\n",
       "    <tr>\n",
       "      <th>159</th>\n",
       "      <td>4</td>\n",
       "      <td>2.1</td>\n",
       "      <td>8</td>\n",
       "      <td>2475</td>\n",
       "      <td>229950</td>\n",
       "      <td>229950</td>\n",
       "      <td>36</td>\n",
       "    </tr>\n",
       "    <tr>\n",
       "      <th>163</th>\n",
       "      <td>5</td>\n",
       "      <td>3.0</td>\n",
       "      <td>10</td>\n",
       "      <td>2492</td>\n",
       "      <td>232500</td>\n",
       "      <td>230000</td>\n",
       "      <td>171</td>\n",
       "    </tr>\n",
       "    <tr>\n",
       "      <th>213</th>\n",
       "      <td>5</td>\n",
       "      <td>3.0</td>\n",
       "      <td>8</td>\n",
       "      <td>3014</td>\n",
       "      <td>269950</td>\n",
       "      <td>271950</td>\n",
       "      <td>5</td>\n",
       "    </tr>\n",
       "    <tr>\n",
       "      <th>215</th>\n",
       "      <td>4</td>\n",
       "      <td>2.1</td>\n",
       "      <td>10</td>\n",
       "      <td>2548</td>\n",
       "      <td>269950</td>\n",
       "      <td>265000</td>\n",
       "      <td>157</td>\n",
       "    </tr>\n",
       "    <tr>\n",
       "      <th>227</th>\n",
       "      <td>5</td>\n",
       "      <td>2.1</td>\n",
       "      <td>10</td>\n",
       "      <td>2500</td>\n",
       "      <td>300000</td>\n",
       "      <td>295000</td>\n",
       "      <td>37</td>\n",
       "    </tr>\n",
       "    <tr>\n",
       "      <th>228</th>\n",
       "      <td>4</td>\n",
       "      <td>2.1</td>\n",
       "      <td>9</td>\n",
       "      <td>2500</td>\n",
       "      <td>319000</td>\n",
       "      <td>315000</td>\n",
       "      <td>57</td>\n",
       "    </tr>\n",
       "    <tr>\n",
       "      <th>229</th>\n",
       "      <td>4</td>\n",
       "      <td>2.1</td>\n",
       "      <td>8</td>\n",
       "      <td>2649</td>\n",
       "      <td>319900</td>\n",
       "      <td>319900</td>\n",
       "      <td>7</td>\n",
       "    </tr>\n",
       "    <tr>\n",
       "      <th>230</th>\n",
       "      <td>4</td>\n",
       "      <td>2.1</td>\n",
       "      <td>9</td>\n",
       "      <td>2600</td>\n",
       "      <td>323900</td>\n",
       "      <td>310000</td>\n",
       "      <td>46</td>\n",
       "    </tr>\n",
       "    <tr>\n",
       "      <th>231</th>\n",
       "      <td>4</td>\n",
       "      <td>2.1</td>\n",
       "      <td>9</td>\n",
       "      <td>2498</td>\n",
       "      <td>324500</td>\n",
       "      <td>300000</td>\n",
       "      <td>12</td>\n",
       "    </tr>\n",
       "    <tr>\n",
       "      <th>232</th>\n",
       "      <td>4</td>\n",
       "      <td>2.1</td>\n",
       "      <td>8</td>\n",
       "      <td>2762</td>\n",
       "      <td>335000</td>\n",
       "      <td>325000</td>\n",
       "      <td>12</td>\n",
       "    </tr>\n",
       "    <tr>\n",
       "      <th>233</th>\n",
       "      <td>5</td>\n",
       "      <td>2.1</td>\n",
       "      <td>12</td>\n",
       "      <td>3135</td>\n",
       "      <td>375950</td>\n",
       "      <td>355000</td>\n",
       "      <td>162</td>\n",
       "    </tr>\n",
       "  </tbody>\n",
       "</table>\n",
       "</div>"
      ],
      "text/plain": [
       "     # Bedrooms  # Baths  # Rooms  Fin SF  List Price  Sales Price  \\\n",
       "159           4      2.1        8    2475      229950       229950   \n",
       "163           5      3.0       10    2492      232500       230000   \n",
       "213           5      3.0        8    3014      269950       271950   \n",
       "215           4      2.1       10    2548      269950       265000   \n",
       "227           5      2.1       10    2500      300000       295000   \n",
       "228           4      2.1        9    2500      319000       315000   \n",
       "229           4      2.1        8    2649      319900       319900   \n",
       "230           4      2.1        9    2600      323900       310000   \n",
       "231           4      2.1        9    2498      324500       300000   \n",
       "232           4      2.1        8    2762      335000       325000   \n",
       "233           5      2.1       12    3135      375950       355000   \n",
       "\n",
       "     Days On Market  \n",
       "159              36  \n",
       "163             171  \n",
       "213               5  \n",
       "215             157  \n",
       "227              37  \n",
       "228              57  \n",
       "229               7  \n",
       "230              46  \n",
       "231              12  \n",
       "232              12  \n",
       "233             162  "
      ]
     },
     "metadata": {},
     "output_type": "display_data"
    },
    {
     "name": "stdout",
     "output_type": "stream",
     "text": [
      "Data points considered outliers for the feature 'List Price':\n"
     ]
    },
    {
     "data": {
      "text/html": [
       "<div>\n",
       "<table border=\"1\" class=\"dataframe\">\n",
       "  <thead>\n",
       "    <tr style=\"text-align: right;\">\n",
       "      <th></th>\n",
       "      <th># Bedrooms</th>\n",
       "      <th># Baths</th>\n",
       "      <th># Rooms</th>\n",
       "      <th>Fin SF</th>\n",
       "      <th>List Price</th>\n",
       "      <th>Sales Price</th>\n",
       "      <th>Days On Market</th>\n",
       "    </tr>\n",
       "  </thead>\n",
       "  <tbody>\n",
       "    <tr>\n",
       "      <th>232</th>\n",
       "      <td>4</td>\n",
       "      <td>2.1</td>\n",
       "      <td>8</td>\n",
       "      <td>2762</td>\n",
       "      <td>335000</td>\n",
       "      <td>325000</td>\n",
       "      <td>12</td>\n",
       "    </tr>\n",
       "    <tr>\n",
       "      <th>233</th>\n",
       "      <td>5</td>\n",
       "      <td>2.1</td>\n",
       "      <td>12</td>\n",
       "      <td>3135</td>\n",
       "      <td>375950</td>\n",
       "      <td>355000</td>\n",
       "      <td>162</td>\n",
       "    </tr>\n",
       "  </tbody>\n",
       "</table>\n",
       "</div>"
      ],
      "text/plain": [
       "     # Bedrooms  # Baths  # Rooms  Fin SF  List Price  Sales Price  \\\n",
       "232           4      2.1        8    2762      335000       325000   \n",
       "233           5      2.1       12    3135      375950       355000   \n",
       "\n",
       "     Days On Market  \n",
       "232              12  \n",
       "233             162  "
      ]
     },
     "metadata": {},
     "output_type": "display_data"
    },
    {
     "name": "stdout",
     "output_type": "stream",
     "text": [
      "Data points considered outliers for the feature 'Sales Price':\n"
     ]
    },
    {
     "data": {
      "text/html": [
       "<div>\n",
       "<table border=\"1\" class=\"dataframe\">\n",
       "  <thead>\n",
       "    <tr style=\"text-align: right;\">\n",
       "      <th></th>\n",
       "      <th># Bedrooms</th>\n",
       "      <th># Baths</th>\n",
       "      <th># Rooms</th>\n",
       "      <th>Fin SF</th>\n",
       "      <th>List Price</th>\n",
       "      <th>Sales Price</th>\n",
       "      <th>Days On Market</th>\n",
       "    </tr>\n",
       "  </thead>\n",
       "  <tbody>\n",
       "    <tr>\n",
       "      <th>233</th>\n",
       "      <td>5</td>\n",
       "      <td>2.1</td>\n",
       "      <td>12</td>\n",
       "      <td>3135</td>\n",
       "      <td>375950</td>\n",
       "      <td>355000</td>\n",
       "      <td>162</td>\n",
       "    </tr>\n",
       "  </tbody>\n",
       "</table>\n",
       "</div>"
      ],
      "text/plain": [
       "     # Bedrooms  # Baths  # Rooms  Fin SF  List Price  Sales Price  \\\n",
       "233           5      2.1       12    3135      375950       355000   \n",
       "\n",
       "     Days On Market  \n",
       "233             162  "
      ]
     },
     "metadata": {},
     "output_type": "display_data"
    },
    {
     "name": "stdout",
     "output_type": "stream",
     "text": [
      "Data points considered outliers for the feature 'Days On Market':\n"
     ]
    },
    {
     "data": {
      "text/html": [
       "<div>\n",
       "<table border=\"1\" class=\"dataframe\">\n",
       "  <thead>\n",
       "    <tr style=\"text-align: right;\">\n",
       "      <th></th>\n",
       "      <th># Bedrooms</th>\n",
       "      <th># Baths</th>\n",
       "      <th># Rooms</th>\n",
       "      <th>Fin SF</th>\n",
       "      <th>List Price</th>\n",
       "      <th>Sales Price</th>\n",
       "      <th>Days On Market</th>\n",
       "    </tr>\n",
       "  </thead>\n",
       "  <tbody>\n",
       "    <tr>\n",
       "      <th>7</th>\n",
       "      <td>3</td>\n",
       "      <td>2.0</td>\n",
       "      <td>6</td>\n",
       "      <td>1530</td>\n",
       "      <td>134500</td>\n",
       "      <td>155000</td>\n",
       "      <td>132</td>\n",
       "    </tr>\n",
       "    <tr>\n",
       "      <th>41</th>\n",
       "      <td>3</td>\n",
       "      <td>2.0</td>\n",
       "      <td>8</td>\n",
       "      <td>1480</td>\n",
       "      <td>165000</td>\n",
       "      <td>148000</td>\n",
       "      <td>384</td>\n",
       "    </tr>\n",
       "    <tr>\n",
       "      <th>72</th>\n",
       "      <td>4</td>\n",
       "      <td>2.0</td>\n",
       "      <td>6</td>\n",
       "      <td>1404</td>\n",
       "      <td>182500</td>\n",
       "      <td>174000</td>\n",
       "      <td>178</td>\n",
       "    </tr>\n",
       "    <tr>\n",
       "      <th>110</th>\n",
       "      <td>4</td>\n",
       "      <td>2.1</td>\n",
       "      <td>11</td>\n",
       "      <td>1840</td>\n",
       "      <td>204950</td>\n",
       "      <td>180000</td>\n",
       "      <td>237</td>\n",
       "    </tr>\n",
       "    <tr>\n",
       "      <th>123</th>\n",
       "      <td>4</td>\n",
       "      <td>2.1</td>\n",
       "      <td>8</td>\n",
       "      <td>1954</td>\n",
       "      <td>209950</td>\n",
       "      <td>209950</td>\n",
       "      <td>156</td>\n",
       "    </tr>\n",
       "    <tr>\n",
       "      <th>135</th>\n",
       "      <td>3</td>\n",
       "      <td>2.0</td>\n",
       "      <td>10</td>\n",
       "      <td>1560</td>\n",
       "      <td>217950</td>\n",
       "      <td>216000</td>\n",
       "      <td>136</td>\n",
       "    </tr>\n",
       "    <tr>\n",
       "      <th>163</th>\n",
       "      <td>5</td>\n",
       "      <td>3.0</td>\n",
       "      <td>10</td>\n",
       "      <td>2492</td>\n",
       "      <td>232500</td>\n",
       "      <td>230000</td>\n",
       "      <td>171</td>\n",
       "    </tr>\n",
       "    <tr>\n",
       "      <th>189</th>\n",
       "      <td>4</td>\n",
       "      <td>2.1</td>\n",
       "      <td>8</td>\n",
       "      <td>2000</td>\n",
       "      <td>247500</td>\n",
       "      <td>235000</td>\n",
       "      <td>129</td>\n",
       "    </tr>\n",
       "    <tr>\n",
       "      <th>215</th>\n",
       "      <td>4</td>\n",
       "      <td>2.1</td>\n",
       "      <td>10</td>\n",
       "      <td>2548</td>\n",
       "      <td>269950</td>\n",
       "      <td>265000</td>\n",
       "      <td>157</td>\n",
       "    </tr>\n",
       "    <tr>\n",
       "      <th>233</th>\n",
       "      <td>5</td>\n",
       "      <td>2.1</td>\n",
       "      <td>12</td>\n",
       "      <td>3135</td>\n",
       "      <td>375950</td>\n",
       "      <td>355000</td>\n",
       "      <td>162</td>\n",
       "    </tr>\n",
       "  </tbody>\n",
       "</table>\n",
       "</div>"
      ],
      "text/plain": [
       "     # Bedrooms  # Baths  # Rooms  Fin SF  List Price  Sales Price  \\\n",
       "7             3      2.0        6    1530      134500       155000   \n",
       "41            3      2.0        8    1480      165000       148000   \n",
       "72            4      2.0        6    1404      182500       174000   \n",
       "110           4      2.1       11    1840      204950       180000   \n",
       "123           4      2.1        8    1954      209950       209950   \n",
       "135           3      2.0       10    1560      217950       216000   \n",
       "163           5      3.0       10    2492      232500       230000   \n",
       "189           4      2.1        8    2000      247500       235000   \n",
       "215           4      2.1       10    2548      269950       265000   \n",
       "233           5      2.1       12    3135      375950       355000   \n",
       "\n",
       "     Days On Market  \n",
       "7               132  \n",
       "41              384  \n",
       "72              178  \n",
       "110             237  \n",
       "123             156  \n",
       "135             136  \n",
       "163             171  \n",
       "189             129  \n",
       "215             157  \n",
       "233             162  "
      ]
     },
     "metadata": {},
     "output_type": "display_data"
    }
   ],
   "source": [
    "# For each feature find the data points with extreme high or low values\n",
    "index_to_outliers = {}\n",
    "for feature in data.keys():\n",
    "    # TODO: Calculate Q1 (25th percentile of the data) for the given feature\n",
    "    Q1 = data[feature].quantile(0.25)\n",
    "    \n",
    "    # TODO: Calculate Q3 (75th percentile of the data) for the given feature\n",
    "    Q3 = data[feature].quantile(0.75)\n",
    "    \n",
    "    # TODO: Use the interquartile range to calculate an outlier step (1.5 times the interquartile range)\n",
    "    step = step = 1.5 * (Q3 - Q1)\n",
    "    \n",
    "    # Display the outliers\n",
    "    print \"Data points considered outliers for the feature '{}':\".format(feature)\n",
    "    outliers = data[~((data[feature] >= Q1 - step) & (data[feature] <= Q3 + step))] \n",
    "    display(outliers)\n",
    "    \n",
    "    for i in outliers.index.tolist():\n",
    "        if i in index_to_outliers:\n",
    "            index_to_outliers[i] += 1\n",
    "        else:\n",
    "            index_to_outliers[i] = 1\n",
    "    \n",
    "filtered_dict = {k:v for k,v in index_to_outliers.iteritems() if v > 1}\n",
    "    \n",
    "    \n",
    "# OPTIONAL: Select the indices for data points you wish to remove\n",
    "outliers  = [filtered_dict.keys()]\n",
    "\n",
    "# Remove the outliers, if any were specified\n",
    "data = data.drop(data.index[outliers]).reset_index(drop = True)"
   ]
  },
  {
   "cell_type": "code",
   "execution_count": 5,
   "metadata": {
    "collapsed": false
   },
   "outputs": [
    {
     "name": "stdout",
     "output_type": "stream",
     "text": [
      "The datapoint 232 has outliers for 2 features\n",
      "The datapoint 233 has outliers for 5 features\n",
      "The datapoint 163 has outliers for 3 features\n",
      "The datapoint 213 has outliers for 2 features\n",
      "The datapoint 215 has outliers for 2 features\n"
     ]
    }
   ],
   "source": [
    "for key, value in filtered_dict.iteritems():\n",
    "    print \"The datapoint {} has outliers for {} features\".format(key, value)"
   ]
  },
  {
   "cell_type": "markdown",
   "metadata": {
    "collapsed": false
   },
   "source": [
    "#### Observations:\n",
    "\n",
    "The data points had more than one outlier per feature were removed. Those data points are more likely to be irregularities since there were outliers found in multiple features. They should be removed, because regression models are sensitive to outliers."
   ]
  },
  {
   "cell_type": "markdown",
   "metadata": {},
   "source": [
    "### Implementation: Identify feature and target column\n",
    "\n",
    "The feature columns are the inputs we will use to predict our target column.  A new buyer will have access to every column except for Sales Price when they're purchasing a new home.  They cannot know what the sale prices will be without thoroughly negotiating with the seller.  However, we are trying to predict the difference between the List Price and the Sales Price, rather than the Sales Price.  Therefore, we need to take the difference between the List and Sale Price to create our target column."
   ]
  },
  {
   "cell_type": "code",
   "execution_count": 6,
   "metadata": {
    "collapsed": false
   },
   "outputs": [],
   "source": [
    "data['Target'] = data['List Price'] - data['Sales Price']\n",
    "data = data.drop(['Sales Price'], axis=1)\n",
    "features = data.drop(['Target'], axis=1)\n",
    "target = data['Target']"
   ]
  },
  {
   "cell_type": "markdown",
   "metadata": {},
   "source": [
    "## Analysis\n",
    "\n",
    "In this section, we will begin exploring the data through visualizations and code.  We will first compute some descriptive statistics to gain some general insights on the data.  Then, each feature will be examined to determine whether or not they are relevant or redundant.  The features will be also tested for normality.  Finally, we will study the correlation between features.  "
   ]
  },
  {
   "cell_type": "markdown",
   "metadata": {},
   "source": [
    "### Implementation: Calculate Descriptive Statistics\n",
    "\n",
    "We will calculate descriptive statistics about the data set."
   ]
  },
  {
   "cell_type": "code",
   "execution_count": 7,
   "metadata": {
    "collapsed": false
   },
   "outputs": [
    {
     "data": {
      "text/html": [
       "<div>\n",
       "<table border=\"1\" class=\"dataframe\">\n",
       "  <thead>\n",
       "    <tr style=\"text-align: right;\">\n",
       "      <th></th>\n",
       "      <th># Bedrooms</th>\n",
       "      <th># Baths</th>\n",
       "      <th># Rooms</th>\n",
       "      <th>Fin SF</th>\n",
       "      <th>List Price</th>\n",
       "      <th>Days On Market</th>\n",
       "      <th>Target</th>\n",
       "    </tr>\n",
       "  </thead>\n",
       "  <tbody>\n",
       "    <tr>\n",
       "      <th>count</th>\n",
       "      <td>229.000000</td>\n",
       "      <td>229.000000</td>\n",
       "      <td>229.000000</td>\n",
       "      <td>229.000000</td>\n",
       "      <td>229.000000</td>\n",
       "      <td>229.000000</td>\n",
       "      <td>229.000000</td>\n",
       "    </tr>\n",
       "    <tr>\n",
       "      <th>mean</th>\n",
       "      <td>3.349345</td>\n",
       "      <td>2.014410</td>\n",
       "      <td>7.104803</td>\n",
       "      <td>1712.890830</td>\n",
       "      <td>207401.777293</td>\n",
       "      <td>38.877729</td>\n",
       "      <td>3459.484716</td>\n",
       "    </tr>\n",
       "    <tr>\n",
       "      <th>std</th>\n",
       "      <td>0.513213</td>\n",
       "      <td>0.342862</td>\n",
       "      <td>1.283302</td>\n",
       "      <td>310.664316</td>\n",
       "      <td>42612.369086</td>\n",
       "      <td>44.102083</td>\n",
       "      <td>8384.426105</td>\n",
       "    </tr>\n",
       "    <tr>\n",
       "      <th>min</th>\n",
       "      <td>3.000000</td>\n",
       "      <td>1.000000</td>\n",
       "      <td>5.000000</td>\n",
       "      <td>1016.000000</td>\n",
       "      <td>107900.000000</td>\n",
       "      <td>1.000000</td>\n",
       "      <td>-20500.000000</td>\n",
       "    </tr>\n",
       "    <tr>\n",
       "      <th>25%</th>\n",
       "      <td>3.000000</td>\n",
       "      <td>2.000000</td>\n",
       "      <td>6.000000</td>\n",
       "      <td>1512.000000</td>\n",
       "      <td>174900.000000</td>\n",
       "      <td>8.000000</td>\n",
       "      <td>0.000000</td>\n",
       "    </tr>\n",
       "    <tr>\n",
       "      <th>50%</th>\n",
       "      <td>3.000000</td>\n",
       "      <td>2.100000</td>\n",
       "      <td>7.000000</td>\n",
       "      <td>1660.000000</td>\n",
       "      <td>209900.000000</td>\n",
       "      <td>23.000000</td>\n",
       "      <td>1460.000000</td>\n",
       "    </tr>\n",
       "    <tr>\n",
       "      <th>75%</th>\n",
       "      <td>4.000000</td>\n",
       "      <td>2.100000</td>\n",
       "      <td>8.000000</td>\n",
       "      <td>1880.000000</td>\n",
       "      <td>235000.000000</td>\n",
       "      <td>56.000000</td>\n",
       "      <td>5950.000000</td>\n",
       "    </tr>\n",
       "    <tr>\n",
       "      <th>max</th>\n",
       "      <td>5.000000</td>\n",
       "      <td>3.000000</td>\n",
       "      <td>11.000000</td>\n",
       "      <td>2649.000000</td>\n",
       "      <td>324500.000000</td>\n",
       "      <td>384.000000</td>\n",
       "      <td>83000.000000</td>\n",
       "    </tr>\n",
       "  </tbody>\n",
       "</table>\n",
       "</div>"
      ],
      "text/plain": [
       "       # Bedrooms     # Baths     # Rooms       Fin SF     List Price  \\\n",
       "count  229.000000  229.000000  229.000000   229.000000     229.000000   \n",
       "mean     3.349345    2.014410    7.104803  1712.890830  207401.777293   \n",
       "std      0.513213    0.342862    1.283302   310.664316   42612.369086   \n",
       "min      3.000000    1.000000    5.000000  1016.000000  107900.000000   \n",
       "25%      3.000000    2.000000    6.000000  1512.000000  174900.000000   \n",
       "50%      3.000000    2.100000    7.000000  1660.000000  209900.000000   \n",
       "75%      4.000000    2.100000    8.000000  1880.000000  235000.000000   \n",
       "max      5.000000    3.000000   11.000000  2649.000000  324500.000000   \n",
       "\n",
       "       Days On Market        Target  \n",
       "count      229.000000    229.000000  \n",
       "mean        38.877729   3459.484716  \n",
       "std         44.102083   8384.426105  \n",
       "min          1.000000 -20500.000000  \n",
       "25%          8.000000      0.000000  \n",
       "50%         23.000000   1460.000000  \n",
       "75%         56.000000   5950.000000  \n",
       "max        384.000000  83000.000000  "
      ]
     },
     "metadata": {},
     "output_type": "display_data"
    }
   ],
   "source": [
    "# Display a description of the dataset\n",
    "display(data.describe())"
   ]
  },
  {
   "cell_type": "markdown",
   "metadata": {},
   "source": [
    "#### Observations: \n",
    "\n",
    "The coefficient of determination r^2 is telling you how much of the information contained in the selected feature is already contained in the remaining features. If the coefficient of determination is 1.0 then all the information contained in this feature is already contained in the renaming features (since we can predict the feature perfectly from the remaining ones). If the coefficient of determination is less than or equal to zero then the remaining features do not already contain the information found in the selected feature (i.e. the select feature is telling something new about the sample).  Almost all the features have a negative r^2 score.  The only feature with a positive r^2 was Fin Sf, but the r^2 was still very low.  It appears every feature is relative.   "
   ]
  },
  {
   "cell_type": "markdown",
   "metadata": {},
   "source": [
    "### Implementation: Feature Relevance\n",
    "\n",
    "We need to consider is if any features are actually relevant.  We can make this determination quite easily by training a supervised regression learner on a subset of the data with one feature removed, and then score how well that model can predict the removed feature."
   ]
  },
  {
   "cell_type": "code",
   "execution_count": 8,
   "metadata": {
    "collapsed": false
   },
   "outputs": [
    {
     "name": "stdout",
     "output_type": "stream",
     "text": [
      "The feature # Bedrooms has a reported prediction score: -0.00760043431053\n",
      "The feature # Baths has a reported prediction score: -0.514156529228\n",
      "The feature # Rooms has a reported prediction score: -0.145813734713\n",
      "The feature Fin SF has a reported prediction score: 0.150086600233\n",
      "The feature List Price has a reported prediction score: -0.342290885712\n",
      "The feature Days On Market has a reported prediction score: -3.62698525986\n"
     ]
    }
   ],
   "source": [
    "from sklearn.cross_validation import train_test_split\n",
    "from sklearn.tree import DecisionTreeRegressor\n",
    "\n",
    "for c in features.columns:\n",
    "    new_data = data.drop(c, axis = 1)\n",
    "    y_all = data[c]\n",
    "    X_train, X_test, y_train, y_test = train_test_split(new_data, y_all, test_size=0.25, random_state=42)\n",
    "    score = DecisionTreeRegressor(random_state=0).fit(X_train, y_train).score(X_test, y_test)\n",
    "    print \"The feature {} has a reported prediction score: {}\".format(c, score)"
   ]
  },
  {
   "cell_type": "markdown",
   "metadata": {},
   "source": [
    "#### Observations: \n",
    "\n",
    "The coefficient of determination r^2 is telling you how much of the information contained in the selected feature is already contained in the remaining features. If the coefficient of determination is 1.0 then all the information contained in this feature is already contained in the renaming features (since we can predict the feature perfectly from the remaining ones). If the coefficient of determination is less than or equal to zero then the remaining features do not already contain the information found in the selected feature (i.e. the select feature is telling something new about the sample).  Almost all the features have a negative r^2 score.  The only feature with a positive r^2 was Fin Sf, but the r^2 was still very low.  It appears every feature is relative.   "
   ]
  },
  {
   "cell_type": "markdown",
   "metadata": {},
   "source": [
    "### Visualize Feature Distributions\n",
    "To get a better understanding of the dataset, we can construct a scatter matrix of each features present in the data. If you found that the feature you attempted to predict above is relevant for identifying a specific customer, then the scatter matrix below may not show any correlation between that feature and the others. Conversely, if you believe that feature is not relevant for identifying a specific customer, the scatter matrix might show a correlation between that feature and another feature in the data."
   ]
  },
  {
   "cell_type": "code",
   "execution_count": 9,
   "metadata": {
    "collapsed": false
   },
   "outputs": [
    {
     "data": {
      "image/png": "[encoded data removed]",
      "text/plain": [
       "<matplotlib.figure.Figure at 0xaa89c88>"
      ]
     },
     "metadata": {},
     "output_type": "display_data"
    }
   ],
   "source": [
    "# Produce a scatter matrix for each pair of features in the data\n",
    "pd.scatter_matrix(features, alpha = 0.3, figsize = (14,8), diagonal = 'kde');"
   ]
  },
  {
   "cell_type": "code",
   "execution_count": 10,
   "metadata": {
    "collapsed": false,
    "scrolled": true
   },
   "outputs": [
    {
     "data": {
      "image/png": "[encoded data removed]",
      "text/plain": [
       "<matplotlib.figure.Figure at 0xcf540f0>"
      ]
     },
     "metadata": {},
     "output_type": "display_data"
    },
    {
     "name": "stdout",
     "output_type": "stream",
     "text": [
      "# Bedrooms does not follow a normal distribution\n"
     ]
    },
    {
     "data": {
      "image/png": "[encoded data removed]",
      "text/plain": [
       "<matplotlib.figure.Figure at 0xe53ca20>"
      ]
     },
     "metadata": {},
     "output_type": "display_data"
    },
    {
     "name": "stdout",
     "output_type": "stream",
     "text": [
      "# Baths does not follow a normal distribution\n"
     ]
    },
    {
     "data": {
      "image/png": "[encoded data removed]",
      "text/plain": [
       "<matplotlib.figure.Figure at 0xe1cb5c0>"
      ]
     },
     "metadata": {},
     "output_type": "display_data"
    },
    {
     "name": "stdout",
     "output_type": "stream",
     "text": [
      "# Rooms does not follow a normal distribution\n"
     ]
    },
    {
     "data": {
      "image/png": "[encoded data removed]",
      "text/plain": [
       "<matplotlib.figure.Figure at 0xeb3d978>"
      ]
     },
     "metadata": {},
     "output_type": "display_data"
    },
    {
     "name": "stdout",
     "output_type": "stream",
     "text": [
      "Fin SF does not follow a normal distribution\n"
     ]
    },
    {
     "data": {
      "image/png": "[encoded data removed]",
      "text/plain": [
       "<matplotlib.figure.Figure at 0xed9abe0>"
      ]
     },
     "metadata": {},
     "output_type": "display_data"
    },
    {
     "name": "stdout",
     "output_type": "stream",
     "text": [
      "List Price does follow a normal distribution\n"
     ]
    },
    {
     "data": {
      "image/png": "[encoded data removed]",
      "text/plain": [
       "<matplotlib.figure.Figure at 0xef8ccf8>"
      ]
     },
     "metadata": {},
     "output_type": "display_data"
    },
    {
     "name": "stdout",
     "output_type": "stream",
     "text": [
      "Days On Market does not follow a normal distribution\n"
     ]
    }
   ],
   "source": [
    "import scipy.stats as stats\n",
    "\n",
    "for c in features.columns:\n",
    "    x = data[c]\n",
    "    x.plot(kind='hist', alpha=0.5, figsize = (6,2), title=c)\n",
    "    plt.show()\n",
    "    z,pvalue = stats.normaltest(x)\n",
    "    isnormal = 'does' if pvalue > 0.055 else \"does not\"\n",
    "    print \"{} {} follow a normal distribution\".format(c, isnormal)"
   ]
  },
  {
   "cell_type": "markdown",
   "metadata": {},
   "source": [
    "#### Observations: \n",
    "\n",
    "It appears none of the features except for List Price follows a normal distribution.  This means we will need to implement feature scaling.  "
   ]
  },
  {
   "cell_type": "code",
   "execution_count": 11,
   "metadata": {
    "collapsed": false
   },
   "outputs": [
    {
     "name": "stderr",
     "output_type": "stream",
     "text": [
      "C:\\Users\\jlee\\AppData\\Local\\Continuum\\Anaconda2\\lib\\site-packages\\seaborn\\linearmodels.py:1285: UserWarning: The `corrplot` function has been deprecated in favor of `heatmap` and will be removed in a forthcoming release. Please update your code.\n",
      "  warnings.warn((\"The `corrplot` function has been deprecated in favor \"\n",
      "C:\\Users\\jlee\\AppData\\Local\\Continuum\\Anaconda2\\lib\\site-packages\\seaborn\\linearmodels.py:1351: UserWarning: The `symmatplot` function has been deprecated in favor of `heatmap` and will be removed in a forthcoming release. Please update your code.\n",
      "  warnings.warn((\"The `symmatplot` function has been deprecated in favor \"\n"
     ]
    },
    {
     "name": "stdout",
     "output_type": "stream",
     "text": [
      "                # Bedrooms   # Baths   # Rooms    Fin SF  List Price  \\\n",
      "# Bedrooms        1.000000  0.320225  0.556835  0.639936    0.379777   \n",
      "# Baths           0.320225  1.000000  0.263700  0.350673    0.253025   \n",
      "# Rooms           0.556835  0.263700  1.000000  0.708415    0.477294   \n",
      "Fin SF            0.639936  0.350673  0.708415  1.000000    0.570876   \n",
      "List Price        0.379777  0.253025  0.477294  0.570876    1.000000   \n",
      "Days On Market    0.055766 -0.013603  0.175445  0.024580    0.046355   \n",
      "Target            0.110384  0.032654  0.143204  0.171204    0.249082   \n",
      "\n",
      "                Days On Market    Target  \n",
      "# Bedrooms            0.055766  0.110384  \n",
      "# Baths              -0.013603  0.032654  \n",
      "# Rooms               0.175445  0.143204  \n",
      "Fin SF                0.024580  0.171204  \n",
      "List Price            0.046355  0.249082  \n",
      "Days On Market        1.000000  0.212107  \n",
      "Target                0.212107  1.000000  \n"
     ]
    },
    {
     "data": {
      "image/png": "[encoded data removed]",
      "text/plain": [
       "<matplotlib.figure.Figure at 0xf545e48>"
      ]
     },
     "metadata": {},
     "output_type": "display_data"
    }
   ],
   "source": [
    "print data.corr(method='pearson')\n",
    "import seaborn as sns\n",
    "_ = sns.corrplot(features)"
   ]
  },
  {
   "cell_type": "markdown",
   "metadata": {},
   "source": [
    "#### Observations: \n",
    "    \n",
    "All the features are positively correlated with one another except for # Baths and Days on Market.  # Baths and Days on Market has a small negative correlation value of -0.014.  The correlation value is so small that one can conclude there is significant relationship between # Baths and Days on Market.  The other correlation make a lot of sense.  We should expect # Rooms to be highly correlated with # Bedrooms and # Baths since # Rooms is the sum of number of bedrooms, bathrooms, and other rooms a home has.  Rooms take up space so logically more rooms means more Fin SF.  Bedrooms are usually larger than bathrooms.  You can see the relationship between FIN SF and # Bedrooms is stronger than the relationship between FIN SF and # Bedrooms.  There does not appear to be any significant relationship between Days on Market and the other features except for # Rooms.  Homes with more rooms take slightly longer to sell.            "
   ]
  },
  {
   "cell_type": "markdown",
   "metadata": {},
   "source": [
    "### Implementation: Feature Scaling\n",
    "\n",
    "The data is not normally distributed, especially if the mean and median vary significantly (indicating a large skew). It is most often appropriate to apply non-linear scaling — particularly for financial data. One way to achieve this scaling is by using a Box-Cox test, which calculates the best power transformation of the data that reduces skewness. A simpler approach which will work in most cases would be applying the natural logarithm.  Feature scaling needs to be perform, because some of the regression models we’re using such as linear regression require the data follows a normal distribution to work properly.   "
   ]
  },
  {
   "cell_type": "code",
   "execution_count": 12,
   "metadata": {
    "collapsed": true
   },
   "outputs": [],
   "source": [
    "features = features.apply(np.log)"
   ]
  },
  {
   "cell_type": "markdown",
   "metadata": {},
   "source": [
    "## Training and Evaluating Models\n",
    "In this section, we will tried various supervised learning models that are available in `scikit-learn`.  We tested the models againist one model, and select the best model.  Then, we will fine tune our best model, and use it to make predictions.  "
   ]
  },
  {
   "cell_type": "markdown",
   "metadata": {},
   "source": [
    "### Implementation: Define a Performance Metric\n",
    "\n",
    "This is a regression problem rather than a classification because the values we are trying to predict are continuous rather than discrete.  Therefore, we should only consider performance metrics for regression problems.  Normally, r^2 is a good general metric to use in a situation like this.  However, r^2 uses some assumptions about the linearity of effects in the model; explained variance score might be more appropriate if you don't expect the models to be linear in most cases (for example, SVMs, nearest neighbors, or neural nets).  This metric is more fitting than r^2 because I will be using nonlinear models such as SVMs and nearest neighbors to solve my problem. \n",
    "\n",
    "Explained Variance Score compares the residual variance against the total variance of your dataset.  The residual variance will be less than or equal to the total variance of the dataset.  No residual variance means your model explains the dataset perfectly since there is no difference between your predicted target values and the actual target values.  A residual variance equal to the total variance means your model does not explain the data at all.  The explained variance score is 1 minus the ratio of the residual variance and total variance which is between zero and one.  Therefore, the higher the score, the more the model explains the data.       "
   ]
  },
  {
   "cell_type": "code",
   "execution_count": 13,
   "metadata": {
    "collapsed": false
   },
   "outputs": [],
   "source": [
    "from sklearn.metrics import explained_variance_score\n",
    "\n",
    "def performance_metric(y_true, y_predict):\n",
    "    \"\"\" Calculates and returns the performance score between \n",
    "        true and predicted values based on the metric chosen. \"\"\"\n",
    "    \n",
    "    # TODO: Calculate the performance score between 'y_true' and 'y_predict'\n",
    "    score = explained_variance_score(y_true, y_predict) \n",
    "    \n",
    "    # Return the score\n",
    "    return score"
   ]
  },
  {
   "cell_type": "markdown",
   "metadata": {},
   "source": [
    "### Implementation: Training and Testing Data Split\n",
    "We need to split the data into training and testing sets to estimate how our model will perform on new data. This will also check to see if we are overfitting model to the data. An over fitted model will perform well on the training set but poorly on the testing set.  We will use 200 data points for training our model.  Then we will test our models on the remaining data points.  "
   ]
  },
  {
   "cell_type": "code",
   "execution_count": 14,
   "metadata": {
    "collapsed": false
   },
   "outputs": [
    {
     "name": "stdout",
     "output_type": "stream",
     "text": [
      "Training set has 200 samples.\n",
      "Testing set has 29 samples.\n"
     ]
    }
   ],
   "source": [
    "from sklearn.cross_validation import train_test_split\n",
    "\n",
    "num_all = data.shape[0]\n",
    "num_train = 200\n",
    "num_test = num_all - num_train\n",
    "\n",
    "# TODO: Shuffle and split the dataset into the number of training and testing points above\n",
    "\n",
    "X_train, X_test, y_train, y_test = train_test_split(features, target, test_size = 1. * num_test/num_all, random_state=0)\n",
    "\n",
    "# Show the results of the split\n",
    "print \"Training set has {} samples.\".format(X_train.shape[0])\n",
    "print \"Testing set has {} samples.\".format(X_test.shape[0])"
   ]
  },
  {
   "cell_type": "code",
   "execution_count": 15,
   "metadata": {
    "collapsed": true
   },
   "outputs": [],
   "source": [
    "import time\n",
    "\n",
    "def train_classifier(clf, X_train, y_train):\n",
    "    print \"Training {}...\".format(clf.__class__.__name__)\n",
    "    start = time.time()\n",
    "    clf.fit(X_train, y_train)\n",
    "    end = time.time()\n",
    "    print \"Done!\\nTraining time (secs): {:.3f}\".format(end - start)\n",
    "    \n",
    "def predict_labels(clf, features, target):\n",
    "    print \"Predicting labels using {}...\".format(clf.__class__.__name__)\n",
    "    start = time.time()\n",
    "    y_pred = clf.predict(features)\n",
    "    end = time.time()\n",
    "    print \"Done!\\nPrediction time (secs): {:.3f}\".format(end - start)\n",
    "    return performance_metric(target, y_pred)\n",
    "\n",
    "def train_predict(clf, X_train, y_train, X_test, y_test):\n",
    "    print \"------------------------------------------\"\n",
    "    print \"Training set size: {}\".format(len(X_train))\n",
    "    train_classifier(clf, X_train, y_train)\n",
    "    print \"Performance score for training set: {}\".format(predict_labels(clf, X_train, y_train))\n",
    "    print \"Performance score for test set: {}\".format(predict_labels(clf, X_test, y_test))"
   ]
  },
  {
   "cell_type": "markdown",
   "metadata": {
    "collapsed": true
   },
   "source": [
    "### Implementation:  Choosing the Best Model\n",
    "\n",
    "We will try various different regression models from Sklearn.  A regression model from each category was selected.  Essemble regressions were not considered due to the limited amount of data that we have.  "
   ]
  },
  {
   "cell_type": "code",
   "execution_count": 16,
   "metadata": {
    "collapsed": false
   },
   "outputs": [
    {
     "name": "stdout",
     "output_type": "stream",
     "text": [
      "------------------------------------------\n",
      "Training set size: 200\n",
      "Training LinearRegression...\n",
      "Done!\n",
      "Training time (secs): 0.001\n",
      "Predicting labels using LinearRegression...\n",
      "Done!\n",
      "Prediction time (secs): 0.000\n",
      "Performance score for training set: 0.0954831544834\n",
      "Predicting labels using LinearRegression...\n",
      "Done!\n",
      "Prediction time (secs): 0.000\n",
      "Performance score for test set: 0.181391879412\n",
      "------------------------------------------\n",
      "Training set size: 200\n",
      "Training KernelRidge...\n",
      "Done!\n",
      "Training time (secs): 0.005\n",
      "Predicting labels using KernelRidge...\n",
      "Done!\n",
      "Prediction time (secs): 0.003\n",
      "Performance score for training set: 0.0595059934826\n",
      "Predicting labels using KernelRidge...\n",
      "Done!\n",
      "Prediction time (secs): 0.000\n",
      "Performance score for test set: 0.164951989561\n",
      "------------------------------------------\n",
      "Training set size: 200\n",
      "Training SVR...\n",
      "Done!\n",
      "Training time (secs): 0.001\n",
      "Predicting labels using SVR...\n",
      "Done!\n",
      "Prediction time (secs): 0.001\n",
      "Performance score for training set: 0.000710364706033\n",
      "Predicting labels using SVR...\n",
      "Done!\n",
      "Prediction time (secs): 0.000\n",
      "Performance score for test set: 0.00244911471521\n",
      "------------------------------------------\n",
      "Training set size: 200\n",
      "Training SGDRegressor...\n",
      "Done!\n",
      "Training time (secs): 0.000\n",
      "Predicting labels using SGDRegressor...\n",
      "Done!\n",
      "Prediction time (secs): 0.000\n",
      "Performance score for training set: 0.0506687746253\n",
      "Predicting labels using SGDRegressor...\n",
      "Done!\n",
      "Prediction time (secs): 0.000\n",
      "Performance score for test set: 0.194378388713\n",
      "------------------------------------------\n",
      "Training set size: 200\n",
      "Training KNeighborsRegressor...\n",
      "Done!\n",
      "Training time (secs): 0.001\n",
      "Predicting labels using KNeighborsRegressor...\n",
      "Done!\n",
      "Prediction time (secs): 0.000\n",
      "Performance score for training set: 0.212154423466\n",
      "Predicting labels using KNeighborsRegressor...\n",
      "Done!\n",
      "Prediction time (secs): 0.000\n",
      "Performance score for test set: 0.240127177968\n",
      "------------------------------------------\n",
      "Training set size: 200\n",
      "Training DecisionTreeRegressor...\n",
      "Done!\n",
      "Training time (secs): 0.001\n",
      "Predicting labels using DecisionTreeRegressor...\n",
      "Done!\n",
      "Prediction time (secs): 0.000\n",
      "Performance score for training set: 1.0\n",
      "Predicting labels using DecisionTreeRegressor...\n",
      "Done!\n",
      "Prediction time (secs): 0.001\n",
      "Performance score for test set: -1.62067707478\n"
     ]
    }
   ],
   "source": [
    "from sklearn import linear_model\n",
    "from sklearn.kernel_ridge import KernelRidge\n",
    "from sklearn import svm\n",
    "from sklearn.neighbors import KNeighborsRegressor\n",
    "\n",
    "linear_models = [linear_model.LinearRegression(), \n",
    "              KernelRidge(alpha=1.0),\n",
    "              svm.SVR(),\n",
    "              linear_model.SGDRegressor(),    \n",
    "              KNeighborsRegressor(n_neighbors=5),\n",
    "              DecisionTreeRegressor()]\n",
    "\n",
    "for model in linear_models:\n",
    "    train_predict(model, X_train, y_train, X_test, y_test)\n",
    "              "
   ]
  },
  {
   "cell_type": "markdown",
   "metadata": {},
   "source": [
    "#### Observations:\n",
    "\n",
    "All the regression model other than the Decision Tree Regressor achieved a positive explained variance score.  The Decision Tree has a perfect score on training data set but it failed on the training set.  This is definitely a case of overfitting.  Other regression models such as Linear, Kernel Ridge, and SGD did significantly better on the testing data vs. on the training model.  Training performance should be better than testing performance, because the model is optimized and fitted to the training data.  The models are suffering from high bias as the models are not really learning from the data.  The K-NN Regressor achieved the highest explained variance score among all these estimators.  It achieved an explained variance of 0.2121 in the training set and 0.2401 in the testing set.  These two scores are almost identical which is really good.  The model is able to explain both sets of data equally well.  "
   ]
  },
  {
   "cell_type": "markdown",
   "metadata": {},
   "source": [
    "### Implementation: Model Tuning\n",
    "\n",
    "We will use fine tune the best our model by using grid search to find the best hyperparameters.  We will search for the optimal number of neighbors   "
   ]
  },
  {
   "cell_type": "code",
   "execution_count": 17,
   "metadata": {
    "collapsed": false
   },
   "outputs": [],
   "source": [
    "from sklearn.tree import DecisionTreeRegressor\n",
    "from sklearn import grid_search\n",
    "from sklearn.metrics import make_scorer\n",
    "\n",
    "from sklearn.neighbors import KNeighborsRegressor\n",
    "from sklearn import grid_search\n",
    "\n",
    "parameters = [{'weights': ['uniform', 'distance'], 'n_neighbors': range(1, 10)}]\n",
    "grid = grid_search.GridSearchCV(KNeighborsRegressor(), param_grid = parameters)"
   ]
  },
  {
   "cell_type": "code",
   "execution_count": 18,
   "metadata": {
    "collapsed": false
   },
   "outputs": [
    {
     "name": "stdout",
     "output_type": "stream",
     "text": [
      "------------------------------------------\n",
      "Training set size: 200\n",
      "Training GridSearchCV...\n",
      "Done!\n",
      "Training time (secs): 0.206\n",
      "Predicting labels using GridSearchCV...\n",
      "Done!\n",
      "Prediction time (secs): 0.001\n",
      "Performance score for training set: 0.136420659587\n",
      "Predicting labels using GridSearchCV...\n",
      "Done!\n",
      "Prediction time (secs): 0.001\n",
      "Performance score for test set: 0.211756478074\n"
     ]
    }
   ],
   "source": [
    "train_predict(grid, X_train, y_train, X_test, y_test)"
   ]
  },
  {
   "cell_type": "code",
   "execution_count": 19,
   "metadata": {
    "collapsed": false
   },
   "outputs": [
    {
     "data": {
      "text/plain": [
       "KNeighborsRegressor(algorithm='auto', leaf_size=30, metric='minkowski',\n",
       "          metric_params=None, n_jobs=1, n_neighbors=9, p=2,\n",
       "          weights='uniform')"
      ]
     },
     "execution_count": 19,
     "metadata": {},
     "output_type": "execute_result"
    }
   ],
   "source": [
    "grid.best_estimator_"
   ]
  },
  {
   "cell_type": "markdown",
   "metadata": {},
   "source": [
    "### Observations:\n",
    "\n",
    "The optimal n_neighbors was 9 and the optimal settings for weight was uniform.  Unfortunately, our fine-tuned model performed slightly worse than the model with default parameters.  It achieved an explained variance score of 0.2117 which is less than our original score of 0.2401.  An optimal model is not necessarily a robust model. Sometimes, a model is either too complex or too simple to sufficiently generalize to new data.   "
   ]
  },
  {
   "cell_type": "markdown",
   "metadata": {},
   "source": [
    "### Predicting Selling Prices\n",
    "\n",
    "We are trying to use the fine-tuned model to predict how much room my friend has to negotiate the sales price of the home.  The house had 4 bedrooms, 2.5 baths, 7 rooms, and is 2,088 fin sf in size.  The home was listed for $195,000 and had been on the market for 43 days.  We need to transform our input by applying the natural logarithm."
   ]
  },
  {
   "cell_type": "code",
   "execution_count": 20,
   "metadata": {
    "collapsed": false
   },
   "outputs": [
    {
     "name": "stderr",
     "output_type": "stream",
     "text": [
      "C:\\Users\\jlee\\AppData\\Local\\Continuum\\Anaconda2\\lib\\site-packages\\sklearn\\utils\\validation.py:386: DeprecationWarning: Passing 1d arrays as data is deprecated in 0.17 and willraise ValueError in 0.19. Reshape your data either using X.reshape(-1, 1) if your data has a single feature or X.reshape(1, -1) if it contains a single sample.\n",
      "  DeprecationWarning)\n"
     ]
    },
    {
     "data": {
      "text/plain": [
       "array([ 3305.55555556])"
      ]
     },
     "execution_count": 20,
     "metadata": {},
     "output_type": "execute_result"
    }
   ],
   "source": [
    "# Bedrooms\t# Baths\t# Rooms\tFin SF\tList Price\tDays On Market\tTarget\n",
    "inputs = np.array([4, 2.5, 2088, 7, 43, 195000])\n",
    "grid.predict(np.log(inputs))"
   ]
  },
  {
   "cell_type": "markdown",
   "metadata": {},
   "source": [
    "#### Observations:\n",
    "\n",
    "The model predicts that my friend has about $3305 to work with.  It suggests that she should place an offer for that home at $191,695."
   ]
  },
  {
   "cell_type": "markdown",
   "metadata": {
    "collapsed": true
   },
   "source": [
    "## Conclusion"
   ]
  },
  {
   "cell_type": "markdown",
   "metadata": {},
   "source": [
    "### Reflection\n",
    "We started out by preprocessing the data before we did any type analysis.  Invalid data points and outliers were removed from the data set.  Our analysis showed us that each feature was relevant and not exclude any of them from our model.  We also discovered that most of the features were not normally so we had to log feature scaling to normalize them.  Afterwards, we tried many different regression model and found out none of them worked really well.  The variance score for an assortment of estimators I tried were all very low.  \n",
    "\n",
    "My friend did follow the recommendation from the model.  There is a happy ending here as she end up getting this particular house. However, I don't think the model contributed a lot to her success due to the many shortcomings that I have mentioned.    \n"
   ]
  },
  {
   "cell_type": "markdown",
   "metadata": {},
   "source": [
    "### Improvement\n",
    "The biggest improvement would be getting more and better data.  The fact that many different regression failed means the data set is not very good.  I would like to try this approach on more homes to see the results are any better.  I need to find a free API that has the data I’m looking for. I need to be able to systemically get the recent sales data around x mile radius of the home I’m looking at.  The data right now is gathered and compiled by manually by hand.  This makes such a task infeasible.      \n"
   ]
  }
 ],
 "metadata": {
  "kernelspec": {
   "display_name": "Python 2",
   "language": "python",
   "name": "python2"
  },
  "language_info": {
   "codemirror_mode": {
    "name": "ipython",
    "version": 2
   },
   "file_extension": ".py",
   "mimetype": "text/x-python",
   "name": "python",
   "nbconvert_exporter": "python",
   "pygments_lexer": "ipython2",
   "version": "2.7.11"
  }
 },
 "nbformat": 4,
 "nbformat_minor": 0
}
